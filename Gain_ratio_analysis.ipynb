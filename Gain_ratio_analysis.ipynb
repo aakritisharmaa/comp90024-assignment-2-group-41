{
 "cells": [
  {
   "cell_type": "markdown",
   "metadata": {},
   "source": [
    "## Get Mean Housing Price"
   ]
  },
  {
   "cell_type": "code",
   "execution_count": 2,
   "metadata": {},
   "outputs": [
    {
     "data": {
      "text/plain": [
       "{'Boroondara': 1425383.0,\n",
       " 'Stonnington - West': 1415388.0,\n",
       " 'Stonnington - East': 1399581.0,\n",
       " 'Bayside': 1209039.0,\n",
       " 'Port Phillip': 1051848.0,\n",
       " 'Glen Eira': 970306.1,\n",
       " 'Yarra': 930999.6,\n",
       " 'Darebin - South': 897120.6,\n",
       " 'Essendon': 837987.4,\n",
       " 'Melbourne City': 811915.3,\n",
       " 'Brunswick - Coburg': 708164.1,\n",
       " 'Maribyrnong': 629980.6,\n",
       " 'Hobsons Bay': 621626.7}"
      ]
     },
     "execution_count": 2,
     "metadata": {},
     "output_type": "execute_result"
    }
   ],
   "source": [
    "import json\n",
    "from collections import Counter\n",
    "\n",
    "sa3loc = ['Melbourne City', 'Port Phillip', 'Bayside', 'Glen Eira', 'Stonnington - West', 'Stonnington - East', 'Boroondara', 'Yarra', 'Darebin - South', 'Brunswick - Coburg', 'Essendon', 'Maribyrnong', 'Hobsons Bay']\n",
    "\n",
    "def getHousingPrice2020():\n",
    "    housing = {}\n",
    "    f = open(\"data2679572621866325112.json\",\"r\")\n",
    "    data = json.load(f)\n",
    "    for i in data[\"features\"]:\n",
    "        if i['properties']['SA32016Name'] in sa3loc:\n",
    "            housing[i['properties']['SA32016Name']]=i['properties']['Sold_Both_Auction_Private_Treaty_GeometricMeanPrice']\n",
    "    house = dict(Counter(housing).most_common())\n",
    "    return house\n",
    "\n",
    "def getHousingPrice2014():\n",
    "    housing = {}\n",
    "    f = open(\"data4289994820847592257.json\",\"r\")\n",
    "    data = json.load(f)\n",
    "    for i in data[\"features\"]:\n",
    "        if i['properties']['SA32016Name'] in sa3loc:\n",
    "            housing[i['properties']['SA32016Name']]=i['properties']['Sold_Both_Auction_Private_Treaty_GeometricMeanPrice']\n",
    "    house = dict(Counter(housing).most_common())\n",
    "    return house\n",
    "\n",
    "getHousingPrice2014()"
   ]
  },
  {
   "cell_type": "code",
   "execution_count": 57,
   "metadata": {},
   "outputs": [
    {
     "data": {
      "text/plain": [
       "{2014: {'Boroondara': 1425383.0,\n",
       "  'Stonnington - West': 1415388.0,\n",
       "  'Stonnington - East': 1399581.0,\n",
       "  'Bayside': 1209039.0,\n",
       "  'Port Phillip': 1051848.0,\n",
       "  'Glen Eira': 970306.1,\n",
       "  'Yarra': 930999.6,\n",
       "  'Darebin - South': 897120.6,\n",
       "  'Essendon': 837987.4,\n",
       "  'Melbourne City': 811915.3,\n",
       "  'Brunswick - Coburg': 708164.1,\n",
       "  'Maribyrnong': 629980.6,\n",
       "  'Hobsons Bay': 621626.7},\n",
       " 2020: {'Boroondara': 1963667.0,\n",
       "  'Stonnington - East': 1944068.0,\n",
       "  'Stonnington - West': 1909463.0,\n",
       "  'Bayside': 1684128.0,\n",
       "  'Port Phillip': 1515327.0,\n",
       "  'Glen Eira': 1331700.0,\n",
       "  'Yarra': 1322806.0,\n",
       "  'Melbourne City': 1217441.0,\n",
       "  'Darebin - South': 1206792.0,\n",
       "  'Essendon': 1187148.0,\n",
       "  'Brunswick - Coburg': 974134.8,\n",
       "  'Hobsons Bay': 880109.3,\n",
       "  'Maribyrnong': 857932.1}}"
      ]
     },
     "execution_count": 57,
     "metadata": {},
     "output_type": "execute_result"
    }
   ],
   "source": [
    "aurin = json.loads(\"{}\")\n",
    "aurin[2014] = getHousingPrice2014()\n",
    "aurin[2020] = getHousingPrice2020()\n",
    "\n",
    "import json\n",
    "f = open(\"aurin.json\",\"w\")\n",
    "json.dump(aurin,f)\n",
    "#f.write()\n",
    "f.close()"
   ]
  },
  {
   "cell_type": "markdown",
   "metadata": {},
   "source": [
    "## Get Tweets"
   ]
  },
  {
   "cell_type": "code",
   "execution_count": 3,
   "metadata": {},
   "outputs": [
    {
     "ename": "NameError",
     "evalue": "name 'tweets' is not defined",
     "output_type": "error",
     "traceback": [
      "\u001b[0;31m---------------------------------------------------------------------------\u001b[0m",
      "\u001b[0;31mNameError\u001b[0m                                 Traceback (most recent call last)",
      "\u001b[0;32m<ipython-input-3-6a490e1111f8>\u001b[0m in \u001b[0;36m<module>\u001b[0;34m\u001b[0m\n\u001b[1;32m     14\u001b[0m     \u001b[0;32mreturn\u001b[0m \u001b[0mfreq\u001b[0m\u001b[0;34m\u001b[0m\u001b[0;34m\u001b[0m\u001b[0m\n\u001b[1;32m     15\u001b[0m \u001b[0;34m\u001b[0m\u001b[0m\n\u001b[0;32m---> 16\u001b[0;31m \u001b[0mgetFreq2014\u001b[0m\u001b[0;34m(\u001b[0m\u001b[0;34m\"melb\"\u001b[0m\u001b[0;34m)\u001b[0m\u001b[0;34m\u001b[0m\u001b[0;34m\u001b[0m\u001b[0m\n\u001b[0m",
      "\u001b[0;32m<ipython-input-3-6a490e1111f8>\u001b[0m in \u001b[0;36mgetFreq2014\u001b[0;34m(query)\u001b[0m\n\u001b[1;32m      6\u001b[0m     \u001b[0;31m#f = open(\"richard_tweets.json\",\"r\")\u001b[0m\u001b[0;34m\u001b[0m\u001b[0;34m\u001b[0m\u001b[0;34m\u001b[0m\u001b[0m\n\u001b[1;32m      7\u001b[0m     \u001b[0;31m#tweets = json.load(f)\u001b[0m\u001b[0;34m\u001b[0m\u001b[0;34m\u001b[0m\u001b[0;34m\u001b[0m\u001b[0m\n\u001b[0;32m----> 8\u001b[0;31m     \u001b[0;32mfor\u001b[0m \u001b[0meach\u001b[0m \u001b[0;32min\u001b[0m \u001b[0mtqdm\u001b[0m\u001b[0;34m(\u001b[0m\u001b[0mtweets\u001b[0m\u001b[0;34m[\u001b[0m\u001b[0;34m\"doc\"\u001b[0m\u001b[0;34m]\u001b[0m\u001b[0;34m)\u001b[0m\u001b[0;34m:\u001b[0m\u001b[0;34m\u001b[0m\u001b[0;34m\u001b[0m\u001b[0m\n\u001b[0m\u001b[1;32m      9\u001b[0m         \u001b[0mcount_tracker\u001b[0m\u001b[0;34m[\u001b[0m\u001b[0meach\u001b[0m\u001b[0;34m[\u001b[0m\u001b[0;34m\"key\"\u001b[0m\u001b[0;34m]\u001b[0m\u001b[0;34m[\u001b[0m\u001b[0;36m0\u001b[0m\u001b[0;34m]\u001b[0m\u001b[0;34m]\u001b[0m\u001b[0;34m[\u001b[0m\u001b[0;36m1\u001b[0m\u001b[0;34m]\u001b[0m \u001b[0;34m+=\u001b[0m \u001b[0;36m1\u001b[0m \u001b[0;31m# 1: total\u001b[0m\u001b[0;34m\u001b[0m\u001b[0;34m\u001b[0m\u001b[0m\n\u001b[1;32m     10\u001b[0m         \u001b[0;32mif\u001b[0m \u001b[0mquery\u001b[0m \u001b[0;32min\u001b[0m \u001b[0meach\u001b[0m\u001b[0;34m[\u001b[0m\u001b[0;34m\"text\"\u001b[0m\u001b[0;34m]\u001b[0m\u001b[0;34m:\u001b[0m\u001b[0;34m\u001b[0m\u001b[0;34m\u001b[0m\u001b[0m\n",
      "\u001b[0;31mNameError\u001b[0m: name 'tweets' is not defined"
     ]
    }
   ],
   "source": [
    "import json\n",
    "from tqdm import tqdm\n",
    "\n",
    "def getFreq2014(query):\n",
    "    count_tracker = { i : [0,0] for i in list(getHousingPrice2020().keys()) }\n",
    "    #f = open(\"richard_tweets.json\",\"r\")\n",
    "    #tweets = json.load(f)\n",
    "    for each in tqdm(tweets[\"doc\"]):\n",
    "        count_tracker[each[\"key\"][0]][1] += 1 # 1: total\n",
    "        if query in each[\"text\"]:\n",
    "            count_tracker[each[\"key\"][0]][0] += 1 # 0: freq\n",
    "            \n",
    "    freq = { k: round(v[0]/v[1],3) for k,v in count_tracker.items() }\n",
    "    return freq\n",
    "\n",
    "getFreq2014(\"melb\")"
   ]
  },
  {
   "cell_type": "code",
   "execution_count": 117,
   "metadata": {},
   "outputs": [
    {
     "name": "stderr",
     "output_type": "stream",
     "text": [
      "                                                              "
     ]
    },
    {
     "name": "stdout",
     "output_type": "stream",
     "text": [
      "0.2624457836151123  minutes\n"
     ]
    },
    {
     "name": "stderr",
     "output_type": "stream",
     "text": [
      "\r"
     ]
    },
    {
     "data": {
      "text/plain": [
       "1775298"
      ]
     },
     "execution_count": 117,
     "metadata": {},
     "output_type": "execute_result"
    }
   ],
   "source": [
    "def freqDiff(word):\n",
    "\n",
    "    thres = 3\n",
    "    docfreq = getFreq2014(word)\n",
    "    houseprice = getHousingPrice2014()\n",
    "    richkeys = list(houseprice.keys())[:thres]\n",
    "    poorkeys = list(houseprice.keys())[-thres:]\n",
    "\n",
    "    richave = 0\n",
    "    poorave = 0\n",
    "    for i in range(thres):\n",
    "        richave += docfreq[richkeys[i]]\n",
    "        poorave += docfreq[poorkeys[i]]\n",
    "    return abs(richave-poorave)\n",
    "\n",
    "start = time.time()\n",
    "\n",
    "content = longtext\n",
    "content = re.sub(r\"http\\S+\", \"\", content)\n",
    "content = content.replace('RT ', ' ').replace('&amp;', 'and')\n",
    "content = re.sub('[^A-Za-z]+', ' ', content)\n",
    "content = content.lower()\n",
    "\n",
    "tokenized_word = word_tokenize(content)\n",
    "stop_words=set(stopwords.words(\"english\"))\n",
    "filtered_sent=[]\n",
    "for w in tqdm(tokenized_word):\n",
    "    if w not in stop_words and len(w)>2:\n",
    "        filtered_sent.append(w)\n",
    "\n",
    "\n",
    "end = time.time()\n",
    "print((end-start)/60, \" minutes\")\n",
    "\n",
    "len(filtered_sent)"
   ]
  },
  {
   "cell_type": "code",
   "execution_count": 121,
   "metadata": {},
   "outputs": [
    {
     "name": "stderr",
     "output_type": "stream",
     "text": [
      "                                                           \r"
     ]
    }
   ],
   "source": [
    "doctotal = { k: 0 for k in most_freq.keys() }    \n",
    "for each in tqdm(tweets[\"doc\"]):\n",
    "    doctotal[each[\"key\"][0]] += 1"
   ]
  },
  {
   "cell_type": "code",
   "execution_count": 125,
   "metadata": {},
   "outputs": [],
   "source": [
    "docfreq = { k: [] for k in most_freq.keys() }   \n",
    "for k,v in most_freq.items():\n",
    "    for w,f in v:\n",
    "        docfreq[k] += [(w,round(f/doctotal[k],2))]"
   ]
  },
  {
   "cell_type": "code",
   "execution_count": 129,
   "metadata": {},
   "outputs": [
    {
     "data": {
      "text/html": [
       "<div>\n",
       "<style scoped>\n",
       "    .dataframe tbody tr th:only-of-type {\n",
       "        vertical-align: middle;\n",
       "    }\n",
       "\n",
       "    .dataframe tbody tr th {\n",
       "        vertical-align: top;\n",
       "    }\n",
       "\n",
       "    .dataframe thead th {\n",
       "        text-align: right;\n",
       "    }\n",
       "</style>\n",
       "<table border=\"1\" class=\"dataframe\">\n",
       "  <thead>\n",
       "    <tr style=\"text-align: right;\">\n",
       "      <th></th>\n",
       "      <th>Melbourne City</th>\n",
       "      <th>Port Phillip</th>\n",
       "      <th>Bayside</th>\n",
       "      <th>Glen Eira</th>\n",
       "      <th>Stonnington - West</th>\n",
       "      <th>Stonnington - East</th>\n",
       "      <th>Boroondara</th>\n",
       "      <th>Yarra</th>\n",
       "      <th>Darebin - South</th>\n",
       "      <th>Brunswick - Coburg</th>\n",
       "      <th>Essendon</th>\n",
       "      <th>Maribyrnong</th>\n",
       "      <th>Hobsons Bay</th>\n",
       "    </tr>\n",
       "  </thead>\n",
       "  <tbody>\n",
       "    <tr>\n",
       "      <th>0</th>\n",
       "      <td>0.21</td>\n",
       "      <td>0.17</td>\n",
       "      <td>0.32</td>\n",
       "      <td>0.03</td>\n",
       "      <td>0.06</td>\n",
       "      <td>0.07</td>\n",
       "      <td>0.04</td>\n",
       "      <td>0.05</td>\n",
       "      <td>0.04</td>\n",
       "      <td>0.04</td>\n",
       "      <td>0.07</td>\n",
       "      <td>0.04</td>\n",
       "      <td>0.09</td>\n",
       "    </tr>\n",
       "    <tr>\n",
       "      <th>1</th>\n",
       "      <td>0.20</td>\n",
       "      <td>0.15</td>\n",
       "      <td>0.27</td>\n",
       "      <td>0.03</td>\n",
       "      <td>0.04</td>\n",
       "      <td>0.06</td>\n",
       "      <td>0.03</td>\n",
       "      <td>0.03</td>\n",
       "      <td>0.04</td>\n",
       "      <td>0.03</td>\n",
       "      <td>0.05</td>\n",
       "      <td>0.04</td>\n",
       "      <td>0.07</td>\n",
       "    </tr>\n",
       "    <tr>\n",
       "      <th>2</th>\n",
       "      <td>0.19</td>\n",
       "      <td>0.14</td>\n",
       "      <td>0.12</td>\n",
       "      <td>0.03</td>\n",
       "      <td>0.03</td>\n",
       "      <td>0.06</td>\n",
       "      <td>0.03</td>\n",
       "      <td>0.03</td>\n",
       "      <td>0.04</td>\n",
       "      <td>0.03</td>\n",
       "      <td>0.04</td>\n",
       "      <td>0.03</td>\n",
       "      <td>0.05</td>\n",
       "    </tr>\n",
       "    <tr>\n",
       "      <th>3</th>\n",
       "      <td>0.19</td>\n",
       "      <td>0.06</td>\n",
       "      <td>0.06</td>\n",
       "      <td>0.03</td>\n",
       "      <td>0.03</td>\n",
       "      <td>0.05</td>\n",
       "      <td>0.03</td>\n",
       "      <td>0.03</td>\n",
       "      <td>0.03</td>\n",
       "      <td>0.03</td>\n",
       "      <td>0.04</td>\n",
       "      <td>0.03</td>\n",
       "      <td>0.05</td>\n",
       "    </tr>\n",
       "    <tr>\n",
       "      <th>4</th>\n",
       "      <td>0.19</td>\n",
       "      <td>0.05</td>\n",
       "      <td>0.05</td>\n",
       "      <td>0.03</td>\n",
       "      <td>0.03</td>\n",
       "      <td>0.05</td>\n",
       "      <td>0.03</td>\n",
       "      <td>0.03</td>\n",
       "      <td>0.03</td>\n",
       "      <td>0.03</td>\n",
       "      <td>0.03</td>\n",
       "      <td>0.03</td>\n",
       "      <td>0.05</td>\n",
       "    </tr>\n",
       "    <tr>\n",
       "      <th>5</th>\n",
       "      <td>0.19</td>\n",
       "      <td>0.04</td>\n",
       "      <td>0.05</td>\n",
       "      <td>0.03</td>\n",
       "      <td>0.03</td>\n",
       "      <td>0.05</td>\n",
       "      <td>0.03</td>\n",
       "      <td>0.03</td>\n",
       "      <td>0.03</td>\n",
       "      <td>0.03</td>\n",
       "      <td>0.03</td>\n",
       "      <td>0.03</td>\n",
       "      <td>0.05</td>\n",
       "    </tr>\n",
       "    <tr>\n",
       "      <th>6</th>\n",
       "      <td>0.19</td>\n",
       "      <td>0.04</td>\n",
       "      <td>0.04</td>\n",
       "      <td>0.03</td>\n",
       "      <td>0.03</td>\n",
       "      <td>0.04</td>\n",
       "      <td>0.03</td>\n",
       "      <td>0.03</td>\n",
       "      <td>0.03</td>\n",
       "      <td>0.03</td>\n",
       "      <td>0.03</td>\n",
       "      <td>0.03</td>\n",
       "      <td>0.04</td>\n",
       "    </tr>\n",
       "    <tr>\n",
       "      <th>7</th>\n",
       "      <td>0.12</td>\n",
       "      <td>0.03</td>\n",
       "      <td>0.03</td>\n",
       "      <td>0.03</td>\n",
       "      <td>0.03</td>\n",
       "      <td>0.04</td>\n",
       "      <td>0.03</td>\n",
       "      <td>0.02</td>\n",
       "      <td>0.03</td>\n",
       "      <td>0.03</td>\n",
       "      <td>0.03</td>\n",
       "      <td>0.02</td>\n",
       "      <td>0.04</td>\n",
       "    </tr>\n",
       "    <tr>\n",
       "      <th>8</th>\n",
       "      <td>0.12</td>\n",
       "      <td>0.03</td>\n",
       "      <td>0.03</td>\n",
       "      <td>0.03</td>\n",
       "      <td>0.03</td>\n",
       "      <td>0.03</td>\n",
       "      <td>0.02</td>\n",
       "      <td>0.02</td>\n",
       "      <td>0.03</td>\n",
       "      <td>0.03</td>\n",
       "      <td>0.03</td>\n",
       "      <td>0.02</td>\n",
       "      <td>0.03</td>\n",
       "    </tr>\n",
       "    <tr>\n",
       "      <th>9</th>\n",
       "      <td>0.09</td>\n",
       "      <td>0.03</td>\n",
       "      <td>0.03</td>\n",
       "      <td>0.03</td>\n",
       "      <td>0.03</td>\n",
       "      <td>0.03</td>\n",
       "      <td>0.02</td>\n",
       "      <td>0.02</td>\n",
       "      <td>0.02</td>\n",
       "      <td>0.02</td>\n",
       "      <td>0.03</td>\n",
       "      <td>0.02</td>\n",
       "      <td>0.03</td>\n",
       "    </tr>\n",
       "  </tbody>\n",
       "</table>\n",
       "</div>"
      ],
      "text/plain": [
       "   Melbourne City  Port Phillip  Bayside  Glen Eira  Stonnington - West  \\\n",
       "0            0.21          0.17     0.32       0.03                0.06   \n",
       "1            0.20          0.15     0.27       0.03                0.04   \n",
       "2            0.19          0.14     0.12       0.03                0.03   \n",
       "3            0.19          0.06     0.06       0.03                0.03   \n",
       "4            0.19          0.05     0.05       0.03                0.03   \n",
       "5            0.19          0.04     0.05       0.03                0.03   \n",
       "6            0.19          0.04     0.04       0.03                0.03   \n",
       "7            0.12          0.03     0.03       0.03                0.03   \n",
       "8            0.12          0.03     0.03       0.03                0.03   \n",
       "9            0.09          0.03     0.03       0.03                0.03   \n",
       "\n",
       "   Stonnington - East  Boroondara  Yarra  Darebin - South  Brunswick - Coburg  \\\n",
       "0                0.07        0.04   0.05             0.04                0.04   \n",
       "1                0.06        0.03   0.03             0.04                0.03   \n",
       "2                0.06        0.03   0.03             0.04                0.03   \n",
       "3                0.05        0.03   0.03             0.03                0.03   \n",
       "4                0.05        0.03   0.03             0.03                0.03   \n",
       "5                0.05        0.03   0.03             0.03                0.03   \n",
       "6                0.04        0.03   0.03             0.03                0.03   \n",
       "7                0.04        0.03   0.02             0.03                0.03   \n",
       "8                0.03        0.02   0.02             0.03                0.03   \n",
       "9                0.03        0.02   0.02             0.02                0.02   \n",
       "\n",
       "   Essendon  Maribyrnong  Hobsons Bay  \n",
       "0      0.07         0.04         0.09  \n",
       "1      0.05         0.04         0.07  \n",
       "2      0.04         0.03         0.05  \n",
       "3      0.04         0.03         0.05  \n",
       "4      0.03         0.03         0.05  \n",
       "5      0.03         0.03         0.05  \n",
       "6      0.03         0.03         0.04  \n",
       "7      0.03         0.02         0.04  \n",
       "8      0.03         0.02         0.03  \n",
       "9      0.03         0.02         0.03  "
      ]
     },
     "execution_count": 129,
     "metadata": {},
     "output_type": "execute_result"
    }
   ],
   "source": [
    "import pandas as pd\n",
    "fdd = pd.DataFrame()#most_freq['Hobsons Bay'],columns = [\"Word\",\"Frequency\"])\n",
    "\n",
    "for k,v in docfreq.items():\n",
    "    temp = pd.DataFrame(v,columns = [\"w\",\"f\"])\n",
    "    fdd[k] = temp[\"f\"]\n",
    "fdd"
   ]
  },
  {
   "cell_type": "code",
   "execution_count": 142,
   "metadata": {},
   "outputs": [],
   "source": [
    "#words = {k:[] for k in getHousingPrice2014().keys()}\n",
    "words={}\n",
    "for k,v in docfreq.items():\n",
    "    for w,f in v:\n",
    "        if w not in words.keys():\n",
    "            words[w] = [0,0,0,0,0,0,0,0,0,0,0,0,0]\n",
    "            \n",
    "for k,v in docfreq.items(): \n",
    "    i = list(getHousingPrice2014().keys()).index(k)\n",
    "    for w,f in v:\n",
    "        words[w][i] = f"
   ]
  },
  {
   "cell_type": "code",
   "execution_count": 143,
   "metadata": {},
   "outputs": [
    {
     "data": {
      "text/plain": [
       "{'melbourne': [0.03,\n",
       "  0.06,\n",
       "  0.06,\n",
       "  0.12,\n",
       "  0.15,\n",
       "  0.03,\n",
       "  0.05,\n",
       "  0.03,\n",
       "  0.07,\n",
       "  0.21,\n",
       "  0.04,\n",
       "  0.03,\n",
       "  0.04],\n",
       " 'today': [0, 0, 0, 0, 0, 0, 0, 0, 0, 0.2, 0, 0, 0],\n",
       " 'rain': [0, 0, 0, 0, 0, 0, 0, 0, 0, 0.19, 0, 0, 0],\n",
       " 'humidity': [0, 0, 0, 0, 0, 0, 0, 0, 0, 0.19, 0, 0, 0],\n",
       " 'temperature': [0, 0, 0, 0, 0, 0, 0, 0, 0, 0.19, 0, 0, 0],\n",
       " 'barometer': [0, 0, 0, 0, 0, 0, 0, 0, 0, 0.19, 0, 0, 0],\n",
       " 'hpa': [0, 0, 0, 0, 0, 0, 0, 0, 0, 0.19, 0, 0, 0],\n",
       " 'slowly': [0, 0, 0, 0, 0, 0, 0, 0, 0, 0.12, 0, 0, 0],\n",
       " 'wind': [0, 0, 0, 0, 0, 0, 0, 0, 0, 0.12, 0, 0, 0],\n",
       " 'rising': [0, 0, 0, 0, 0, 0, 0, 0, 0, 0.09, 0, 0, 0],\n",
       " 'kilda': [0, 0, 0, 0, 0.17, 0, 0, 0, 0, 0, 0, 0, 0],\n",
       " 'beach': [0, 0, 0, 0.27, 0.14, 0, 0, 0, 0, 0, 0, 0, 0.05],\n",
       " 'park': [0, 0, 0, 0, 0.06, 0, 0, 0, 0, 0, 0, 0, 0],\n",
       " 'stkilda': [0, 0, 0, 0, 0.05, 0, 0, 0, 0, 0, 0, 0, 0],\n",
       " 'day': [0.03, 0.03, 0, 0.06, 0.04, 0.03, 0.03, 0.03, 0.04, 0, 0, 0.02, 0.04],\n",
       " 'pls': [0, 0, 0, 0, 0.04, 0, 0, 0, 0, 0, 0, 0, 0],\n",
       " 'australia': [0, 0, 0, 0.04, 0.03, 0, 0, 0, 0, 0, 0, 0, 0],\n",
       " 'vic': [0.03, 0.03, 0.05, 0.03, 0.03, 0.03, 0.03, 0, 0.04, 0, 0, 0, 0],\n",
       " 'love': [0.03, 0.03, 0, 0, 0.03, 0.03, 0, 0, 0, 0, 0.03, 0.03, 0],\n",
       " 'brighton': [0, 0, 0, 0.32, 0, 0, 0, 0, 0, 0, 0, 0, 0],\n",
       " 'bathing': [0, 0, 0, 0.05, 0, 0, 0, 0, 0, 0, 0, 0, 0],\n",
       " 'boxes': [0, 0, 0, 0.05, 0, 0, 0, 0, 0, 0, 0, 0, 0],\n",
       " 'brightonbeach': [0, 0, 0, 0.03, 0, 0, 0, 0, 0, 0, 0, 0, 0],\n",
       " 'sandringham': [0, 0, 0, 0.03, 0, 0, 0, 0, 0, 0, 0, 0, 0],\n",
       " 'like': [0.03, 0.03, 0, 0, 0, 0.03, 0.03, 0.03, 0.03, 0, 0.03, 0.03, 0.03],\n",
       " 'timeline': [0.03, 0, 0.07, 0, 0, 0.03, 0, 0.04, 0.03, 0, 0.03, 0.04, 0.05],\n",
       " 'initiated': [0.03, 0, 0.06, 0, 0, 0.03, 0, 0.03, 0.03, 0, 0.03, 0.04, 0.05],\n",
       " 'good': [0.02, 0.03, 0, 0, 0, 0.03, 0.03, 0.03, 0, 0, 0.03, 0.03, 0.05],\n",
       " 'get': [0, 0.03, 0, 0, 0, 0.03, 0.02, 0.03, 0.03, 0, 0.02, 0.03, 0.03],\n",
       " 'one': [0.02, 0.03, 0, 0, 0, 0.03, 0.02, 0.02, 0, 0, 0.03, 0.02, 0],\n",
       " 'richmond': [0, 0.04, 0, 0, 0, 0, 0.02, 0, 0, 0, 0, 0, 0],\n",
       " 'new': [0, 0.03, 0, 0, 0, 0, 0.03, 0, 0, 0, 0, 0, 0],\n",
       " 'closed': [0, 0, 0.05, 0, 0, 0, 0, 0, 0, 0, 0, 0, 0],\n",
       " 'ashburton': [0, 0, 0.05, 0, 0, 0, 0, 0, 0, 0, 0, 0, 0],\n",
       " 'lane': [0, 0, 0.04, 0, 0, 0, 0, 0, 0, 0, 0, 0, 0],\n",
       " 'chadstone': [0, 0, 0.04, 0, 0, 0, 0, 0, 0, 0, 0, 0, 0],\n",
       " 'east': [0, 0, 0.03, 0, 0, 0, 0, 0, 0, 0, 0, 0, 0],\n",
       " 'cafe': [0, 0, 0.03, 0, 0, 0, 0, 0, 0, 0, 0, 0, 0],\n",
       " 'hawthorn': [0.04, 0, 0, 0, 0, 0, 0, 0, 0, 0, 0, 0, 0],\n",
       " 'collingwood': [0, 0, 0, 0, 0, 0, 0.03, 0, 0, 0, 0, 0, 0],\n",
       " 'preston': [0, 0, 0, 0, 0, 0, 0, 0.04, 0, 0, 0, 0, 0],\n",
       " 'northcote': [0, 0, 0, 0, 0, 0, 0, 0.04, 0, 0, 0, 0, 0],\n",
       " 'brunswick': [0, 0, 0, 0, 0, 0, 0, 0, 0, 0, 0.03, 0, 0],\n",
       " 'coburg': [0, 0, 0, 0, 0, 0, 0, 0, 0, 0, 0.03, 0, 0],\n",
       " 'footscray': [0, 0, 0, 0, 0, 0, 0, 0, 0.05, 0, 0, 0.02, 0],\n",
       " 'flemington': [0, 0, 0, 0, 0, 0, 0, 0, 0.03, 0, 0, 0, 0],\n",
       " 'victoria': [0, 0, 0, 0, 0, 0, 0, 0, 0.03, 0, 0, 0, 0],\n",
       " 'williamstown': [0, 0, 0, 0, 0, 0, 0, 0, 0, 0, 0, 0, 0.09],\n",
       " 'altona': [0, 0, 0, 0, 0, 0, 0, 0, 0, 0, 0, 0, 0.07]}"
      ]
     },
     "execution_count": 143,
     "metadata": {},
     "output_type": "execute_result"
    }
   ],
   "source": [
    "words"
   ]
  },
  {
   "cell_type": "markdown",
   "metadata": {},
   "source": [
    "# feature vec, model"
   ]
  },
  {
   "cell_type": "code",
   "execution_count": 64,
   "metadata": {},
   "outputs": [],
   "source": [
    "import json\n",
    "f = open(\"richard_tweets.json\",\"r\")\n",
    "tweets = json.load(f)"
   ]
  },
  {
   "cell_type": "code",
   "execution_count": null,
   "metadata": {},
   "outputs": [],
   "source": [
    "from textblob import TextBlob\n",
    "\n",
    "##\n",
    "\n",
    "sentiment = TextBlob(tweet_text).sentiment\n",
    "polarity = sentiment.polarity\n",
    "subjectivity = sentiment.subjectivity"
   ]
  },
  {
   "cell_type": "code",
   "execution_count": null,
   "metadata": {},
   "outputs": [],
   "source": []
  },
  {
   "cell_type": "code",
   "execution_count": 97,
   "metadata": {},
   "outputs": [
    {
     "name": "stderr",
     "output_type": "stream",
     "text": [
      "                                                        \r"
     ]
    }
   ],
   "source": [
    "loctext = {k: \"\" for k in getHousingPrice2014().keys()}\n",
    "for each in tqdm(tweets[\"doc\"]):\n",
    "    loctext[each[\"key\"][0]] += each[\"text\"]"
   ]
  },
  {
   "cell_type": "code",
   "execution_count": 99,
   "metadata": {
    "scrolled": true
   },
   "outputs": [
    {
     "name": "stderr",
     "output_type": "stream",
     "text": [
      "                                                              \r"
     ]
    },
    {
     "data": {
      "text/plain": [
       "{'Melbourne City': [('melbourne', 30043),\n",
       "  ('today', 29365),\n",
       "  ('rain', 27089),\n",
       "  ('humidity', 26990),\n",
       "  ('temperature', 26970),\n",
       "  ('barometer', 26960),\n",
       "  ('hpa', 26960),\n",
       "  ('slowly', 16985),\n",
       "  ('wind', 16971),\n",
       "  ('rising', 12412)],\n",
       " 'Port Phillip': [('kilda', 1234),\n",
       "  ('melbourne', 1056),\n",
       "  ('beach', 971),\n",
       "  ('park', 428),\n",
       "  ('stkilda', 353),\n",
       "  ('day', 274),\n",
       "  ('pls', 253),\n",
       "  ('australia', 246),\n",
       "  ('vic', 230),\n",
       "  ('love', 212)],\n",
       " 'Bayside': [('brighton', 741),\n",
       "  ('beach', 616),\n",
       "  ('melbourne', 277),\n",
       "  ('day', 144),\n",
       "  ('bathing', 112),\n",
       "  ('boxes', 110),\n",
       "  ('australia', 98),\n",
       "  ('vic', 80),\n",
       "  ('brightonbeach', 63),\n",
       "  ('sandringham', 60)],\n",
       " 'Glen Eira': [('like', 660),\n",
       "  ('love', 603),\n",
       "  ('vic', 575),\n",
       "  ('timeline', 567),\n",
       "  ('initiated', 547),\n",
       "  ('good', 533),\n",
       "  ('melbourne', 519),\n",
       "  ('get', 514),\n",
       "  ('day', 503),\n",
       "  ('one', 502)],\n",
       " 'Stonnington - West': [('melbourne', 1441),\n",
       "  ('richmond', 838),\n",
       "  ('vic', 783),\n",
       "  ('day', 746),\n",
       "  ('like', 716),\n",
       "  ('one', 661),\n",
       "  ('good', 642),\n",
       "  ('new', 624),\n",
       "  ('love', 618),\n",
       "  ('get', 604)],\n",
       " 'Stonnington - East': [('timeline', 53),\n",
       "  ('initiated', 50),\n",
       "  ('melbourne', 45),\n",
       "  ('closed', 41),\n",
       "  ('ashburton', 38),\n",
       "  ('vic', 37),\n",
       "  ('lane', 36),\n",
       "  ('chadstone', 33),\n",
       "  ('east', 26),\n",
       "  ('cafe', 25)],\n",
       " 'Boroondara': [('hawthorn', 525),\n",
       "  ('love', 407),\n",
       "  ('melbourne', 395),\n",
       "  ('like', 385),\n",
       "  ('timeline', 375),\n",
       "  ('vic', 354),\n",
       "  ('day', 353),\n",
       "  ('initiated', 353),\n",
       "  ('one', 340),\n",
       "  ('good', 314)],\n",
       " 'Yarra': [('melbourne', 667),\n",
       "  ('collingwood', 351),\n",
       "  ('vic', 335),\n",
       "  ('new', 329),\n",
       "  ('like', 311),\n",
       "  ('day', 306),\n",
       "  ('good', 306),\n",
       "  ('one', 304),\n",
       "  ('richmond', 290),\n",
       "  ('get', 288)],\n",
       " 'Darebin - South': [('preston', 240),\n",
       "  ('northcote', 240),\n",
       "  ('timeline', 218),\n",
       "  ('initiated', 205),\n",
       "  ('melbourne', 204),\n",
       "  ('good', 176),\n",
       "  ('like', 171),\n",
       "  ('day', 161),\n",
       "  ('get', 156),\n",
       "  ('one', 152)],\n",
       " 'Brunswick - Coburg': [('melbourne', 320),\n",
       "  ('timeline', 296),\n",
       "  ('brunswick', 291),\n",
       "  ('initiated', 278),\n",
       "  ('love', 263),\n",
       "  ('like', 256),\n",
       "  ('one', 242),\n",
       "  ('coburg', 237),\n",
       "  ('good', 224),\n",
       "  ('get', 197)],\n",
       " 'Essendon': [('melbourne', 607),\n",
       "  ('footscray', 417),\n",
       "  ('vic', 329),\n",
       "  ('day', 329),\n",
       "  ('timeline', 249),\n",
       "  ('initiated', 235),\n",
       "  ('like', 230),\n",
       "  ('flemington', 221),\n",
       "  ('victoria', 219),\n",
       "  ('get', 217)],\n",
       " 'Maribyrnong': [('timeline', 412),\n",
       "  ('initiated', 392),\n",
       "  ('like', 324),\n",
       "  ('good', 283),\n",
       "  ('melbourne', 280),\n",
       "  ('love', 250),\n",
       "  ('get', 249),\n",
       "  ('footscray', 245),\n",
       "  ('day', 245),\n",
       "  ('one', 237)],\n",
       " 'Hobsons Bay': [('williamstown', 341),\n",
       "  ('altona', 246),\n",
       "  ('beach', 190),\n",
       "  ('timeline', 178),\n",
       "  ('initiated', 172),\n",
       "  ('good', 163),\n",
       "  ('melbourne', 145),\n",
       "  ('day', 136),\n",
       "  ('get', 123),\n",
       "  ('like', 102)]}"
      ]
     },
     "execution_count": 99,
     "metadata": {},
     "output_type": "execute_result"
    }
   ],
   "source": [
    "import re\n",
    "from nltk.probability import FreqDist\n",
    "from nltk.tokenize import word_tokenize\n",
    "from nltk.corpus import stopwords\n",
    "\n",
    "most_freq = {}\n",
    "for k,v in loctext.items():\n",
    "    content = v\n",
    "    content = re.sub(r\"http\\S+\", \"\", content)\n",
    "    content = content.replace('RT ', ' ').replace('&amp;', 'and')\n",
    "    content = re.sub('[^A-Za-z]+', ' ', content)\n",
    "    content = content.lower()\n",
    "\n",
    "    tokenized_word = word_tokenize(content)\n",
    "    stop_words=set(stopwords.words(\"english\"))\n",
    "    filtered_sent=[]\n",
    "    for w in tqdm(tokenized_word):\n",
    "        if w not in stop_words and len(w)>2:\n",
    "            filtered_sent.append(w)\n",
    "    fdist = FreqDist(filtered_sent)\n",
    "    most_freq[k] = fdist.most_common(10)\n",
    "    \n",
    "most_freq"
   ]
  },
  {
   "cell_type": "code",
   "execution_count": 175,
   "metadata": {},
   "outputs": [
    {
     "data": {
      "text/html": [
       "<div>\n",
       "<style scoped>\n",
       "    .dataframe tbody tr th:only-of-type {\n",
       "        vertical-align: middle;\n",
       "    }\n",
       "\n",
       "    .dataframe tbody tr th {\n",
       "        vertical-align: top;\n",
       "    }\n",
       "\n",
       "    .dataframe thead th {\n",
       "        text-align: right;\n",
       "    }\n",
       "</style>\n",
       "<table border=\"1\" class=\"dataframe\">\n",
       "  <thead>\n",
       "    <tr style=\"text-align: right;\">\n",
       "      <th></th>\n",
       "      <th>Boroondara</th>\n",
       "      <th>Stonnington - West</th>\n",
       "      <th>Stonnington - East</th>\n",
       "      <th>Bayside</th>\n",
       "      <th>Port Phillip</th>\n",
       "      <th>Glen Eira</th>\n",
       "      <th>Yarra</th>\n",
       "      <th>Darebin - South</th>\n",
       "      <th>Essendon</th>\n",
       "      <th>Melbourne City</th>\n",
       "      <th>Brunswick - Coburg</th>\n",
       "      <th>Maribyrnong</th>\n",
       "      <th>Hobsons Bay</th>\n",
       "    </tr>\n",
       "  </thead>\n",
       "  <tbody>\n",
       "    <tr>\n",
       "      <th>0</th>\n",
       "      <td>hawthorn</td>\n",
       "      <td>melbourne</td>\n",
       "      <td>timeline</td>\n",
       "      <td>brighton</td>\n",
       "      <td>kilda</td>\n",
       "      <td>like</td>\n",
       "      <td>melbourne</td>\n",
       "      <td>preston</td>\n",
       "      <td>melbourne</td>\n",
       "      <td>melbourne</td>\n",
       "      <td>melbourne</td>\n",
       "      <td>timeline</td>\n",
       "      <td>williamstown</td>\n",
       "    </tr>\n",
       "    <tr>\n",
       "      <th>1</th>\n",
       "      <td>love</td>\n",
       "      <td>richmond</td>\n",
       "      <td>initiated</td>\n",
       "      <td>beach</td>\n",
       "      <td>melbourne</td>\n",
       "      <td>love</td>\n",
       "      <td>collingwood</td>\n",
       "      <td>northcote</td>\n",
       "      <td>footscray</td>\n",
       "      <td>today</td>\n",
       "      <td>timeline</td>\n",
       "      <td>initiated</td>\n",
       "      <td>altona</td>\n",
       "    </tr>\n",
       "    <tr>\n",
       "      <th>2</th>\n",
       "      <td>melbourne</td>\n",
       "      <td>vic</td>\n",
       "      <td>melbourne</td>\n",
       "      <td>melbourne</td>\n",
       "      <td>beach</td>\n",
       "      <td>vic</td>\n",
       "      <td>vic</td>\n",
       "      <td>timeline</td>\n",
       "      <td>vic</td>\n",
       "      <td>rain</td>\n",
       "      <td>brunswick</td>\n",
       "      <td>like</td>\n",
       "      <td>beach</td>\n",
       "    </tr>\n",
       "    <tr>\n",
       "      <th>3</th>\n",
       "      <td>like</td>\n",
       "      <td>day</td>\n",
       "      <td>closed</td>\n",
       "      <td>day</td>\n",
       "      <td>park</td>\n",
       "      <td>timeline</td>\n",
       "      <td>new</td>\n",
       "      <td>initiated</td>\n",
       "      <td>day</td>\n",
       "      <td>humidity</td>\n",
       "      <td>initiated</td>\n",
       "      <td>good</td>\n",
       "      <td>timeline</td>\n",
       "    </tr>\n",
       "    <tr>\n",
       "      <th>4</th>\n",
       "      <td>timeline</td>\n",
       "      <td>like</td>\n",
       "      <td>ashburton</td>\n",
       "      <td>bathing</td>\n",
       "      <td>stkilda</td>\n",
       "      <td>initiated</td>\n",
       "      <td>like</td>\n",
       "      <td>melbourne</td>\n",
       "      <td>timeline</td>\n",
       "      <td>temperature</td>\n",
       "      <td>love</td>\n",
       "      <td>melbourne</td>\n",
       "      <td>initiated</td>\n",
       "    </tr>\n",
       "    <tr>\n",
       "      <th>5</th>\n",
       "      <td>vic</td>\n",
       "      <td>one</td>\n",
       "      <td>vic</td>\n",
       "      <td>boxes</td>\n",
       "      <td>day</td>\n",
       "      <td>good</td>\n",
       "      <td>day</td>\n",
       "      <td>good</td>\n",
       "      <td>initiated</td>\n",
       "      <td>barometer</td>\n",
       "      <td>like</td>\n",
       "      <td>love</td>\n",
       "      <td>good</td>\n",
       "    </tr>\n",
       "    <tr>\n",
       "      <th>6</th>\n",
       "      <td>day</td>\n",
       "      <td>good</td>\n",
       "      <td>lane</td>\n",
       "      <td>australia</td>\n",
       "      <td>pls</td>\n",
       "      <td>melbourne</td>\n",
       "      <td>good</td>\n",
       "      <td>like</td>\n",
       "      <td>like</td>\n",
       "      <td>hpa</td>\n",
       "      <td>one</td>\n",
       "      <td>get</td>\n",
       "      <td>melbourne</td>\n",
       "    </tr>\n",
       "    <tr>\n",
       "      <th>7</th>\n",
       "      <td>initiated</td>\n",
       "      <td>new</td>\n",
       "      <td>chadstone</td>\n",
       "      <td>vic</td>\n",
       "      <td>australia</td>\n",
       "      <td>get</td>\n",
       "      <td>one</td>\n",
       "      <td>day</td>\n",
       "      <td>flemington</td>\n",
       "      <td>slowly</td>\n",
       "      <td>coburg</td>\n",
       "      <td>footscray</td>\n",
       "      <td>day</td>\n",
       "    </tr>\n",
       "    <tr>\n",
       "      <th>8</th>\n",
       "      <td>one</td>\n",
       "      <td>love</td>\n",
       "      <td>east</td>\n",
       "      <td>brightonbeach</td>\n",
       "      <td>vic</td>\n",
       "      <td>day</td>\n",
       "      <td>richmond</td>\n",
       "      <td>get</td>\n",
       "      <td>victoria</td>\n",
       "      <td>wind</td>\n",
       "      <td>good</td>\n",
       "      <td>day</td>\n",
       "      <td>get</td>\n",
       "    </tr>\n",
       "    <tr>\n",
       "      <th>9</th>\n",
       "      <td>good</td>\n",
       "      <td>get</td>\n",
       "      <td>cafe</td>\n",
       "      <td>sandringham</td>\n",
       "      <td>love</td>\n",
       "      <td>one</td>\n",
       "      <td>get</td>\n",
       "      <td>one</td>\n",
       "      <td>get</td>\n",
       "      <td>rising</td>\n",
       "      <td>get</td>\n",
       "      <td>one</td>\n",
       "      <td>like</td>\n",
       "    </tr>\n",
       "  </tbody>\n",
       "</table>\n",
       "</div>"
      ],
      "text/plain": [
       "  Boroondara Stonnington - West Stonnington - East        Bayside  \\\n",
       "0   hawthorn          melbourne           timeline       brighton   \n",
       "1       love           richmond          initiated          beach   \n",
       "2  melbourne                vic          melbourne      melbourne   \n",
       "3       like                day             closed            day   \n",
       "4   timeline               like          ashburton        bathing   \n",
       "5        vic                one                vic          boxes   \n",
       "6        day               good               lane      australia   \n",
       "7  initiated                new          chadstone            vic   \n",
       "8        one               love               east  brightonbeach   \n",
       "9       good                get               cafe    sandringham   \n",
       "\n",
       "  Port Phillip  Glen Eira        Yarra Darebin - South    Essendon  \\\n",
       "0        kilda       like    melbourne         preston   melbourne   \n",
       "1    melbourne       love  collingwood       northcote   footscray   \n",
       "2        beach        vic          vic        timeline         vic   \n",
       "3         park   timeline          new       initiated         day   \n",
       "4      stkilda  initiated         like       melbourne    timeline   \n",
       "5          day       good          day            good   initiated   \n",
       "6          pls  melbourne         good            like        like   \n",
       "7    australia        get          one             day  flemington   \n",
       "8          vic        day     richmond             get    victoria   \n",
       "9         love        one          get             one         get   \n",
       "\n",
       "  Melbourne City Brunswick - Coburg Maribyrnong   Hobsons Bay  \n",
       "0      melbourne          melbourne    timeline  williamstown  \n",
       "1          today           timeline   initiated        altona  \n",
       "2           rain          brunswick        like         beach  \n",
       "3       humidity          initiated        good      timeline  \n",
       "4    temperature               love   melbourne     initiated  \n",
       "5      barometer               like        love          good  \n",
       "6            hpa                one         get     melbourne  \n",
       "7         slowly             coburg   footscray           day  \n",
       "8           wind               good         day           get  \n",
       "9         rising                get         one          like  "
      ]
     },
     "execution_count": 175,
     "metadata": {},
     "output_type": "execute_result"
    }
   ],
   "source": [
    "import pandas as pd\n",
    "fd = pd.DataFrame()#most_freq['Hobsons Bay'],columns = [\"Word\",\"Frequency\"])\n",
    "\n",
    "\n",
    "#order = list(getHousingPrice2014().keys())\n",
    "\n",
    "for k in list(getHousingPrice2014().keys()):\n",
    "\n",
    "    temp = pd.DataFrame(most_freq[k],columns = [\"w\",\"f\"])\n",
    "    fd[k] = temp[\"w\"]\n",
    "fd"
   ]
  },
  {
   "cell_type": "code",
   "execution_count": 1,
   "metadata": {},
   "outputs": [
    {
     "ename": "NameError",
     "evalue": "name 'getHousingPrice2014' is not defined",
     "output_type": "error",
     "traceback": [
      "\u001b[0;31m---------------------------------------------------------------------------\u001b[0m",
      "\u001b[0;31mNameError\u001b[0m                                 Traceback (most recent call last)",
      "\u001b[0;32m<ipython-input-1-e80693545a2d>\u001b[0m in \u001b[0;36m<module>\u001b[0;34m\u001b[0m\n\u001b[1;32m      1\u001b[0m \u001b[0;32mfrom\u001b[0m \u001b[0mmatplotlib\u001b[0m \u001b[0;32mimport\u001b[0m \u001b[0mpyplot\u001b[0m\u001b[0;34m\u001b[0m\u001b[0;34m\u001b[0m\u001b[0m\n\u001b[0;32m----> 2\u001b[0;31m \u001b[0mpyplot\u001b[0m\u001b[0;34m.\u001b[0m\u001b[0mbar\u001b[0m\u001b[0;34m(\u001b[0m\u001b[0mgetHousingPrice2014\u001b[0m\u001b[0;34m(\u001b[0m\u001b[0;34m)\u001b[0m\u001b[0;34m.\u001b[0m\u001b[0mvalues\u001b[0m\u001b[0;34m(\u001b[0m\u001b[0;34m)\u001b[0m\u001b[0;34m,\u001b[0m \u001b[0mgetFreq2014\u001b[0m\u001b[0;34m(\u001b[0m\u001b[0;34m\"vic\"\u001b[0m\u001b[0;34m)\u001b[0m\u001b[0;34m.\u001b[0m\u001b[0mvalues\u001b[0m\u001b[0;34m(\u001b[0m\u001b[0;34m)\u001b[0m\u001b[0;34m)\u001b[0m\u001b[0;34m\u001b[0m\u001b[0;34m\u001b[0m\u001b[0m\n\u001b[0m",
      "\u001b[0;31mNameError\u001b[0m: name 'getHousingPrice2014' is not defined"
     ]
    }
   ],
   "source": [
    "from matplotlib import pyplot\n",
    "pyplot.bar(getHousingPrice2014().values(), getFreq2014(\"vic\").values())"
   ]
  },
  {
   "cell_type": "code",
   "execution_count": 148,
   "metadata": {},
   "outputs": [
    {
     "name": "stderr",
     "output_type": "stream",
     "text": [
      "No handles with labels found to put in legend.\n"
     ]
    },
    {
     "data": {
      "image/png": "[encoded data removed]",
      "text/plain": [
       "<Figure size 432x288 with 1 Axes>"
      ]
     },
     "metadata": {
      "needs_background": "light"
     },
     "output_type": "display_data"
    }
   ],
   "source": [
    "import matplotlib.pyplot as plt\n",
    "import numpy as np\n",
    "\n",
    "\n",
    "ax = plt.subplot(111)\n",
    "t1 = list(getHousingPrice2014().keys())\n",
    "for k,v in words.items():\n",
    "    plt.plot(t1, v)#, label=\"k=\"+k)\n",
    "\n",
    "leg = plt.legend(loc='best', ncol=2, mode=\"expand\", shadow=True, fancybox=True)\n",
    "leg.get_frame().set_alpha(0.5)\n",
    "plt.show()\n",
    "\n"
   ]
  },
  {
   "cell_type": "code",
   "execution_count": null,
   "metadata": {},
   "outputs": [],
   "source": []
  },
  {
   "cell_type": "code",
   "execution_count": null,
   "metadata": {},
   "outputs": [],
   "source": []
  },
  {
   "cell_type": "code",
   "execution_count": 110,
   "metadata": {},
   "outputs": [
    {
     "data": {
      "application/vnd.plotly.v1+json": {
       "config": {
        "plotlyServerURL": "https://plot.ly"
       },
       "data": [
        {
         "alignmentgroup": "True",
         "hovertemplate": "Word=%{x}<br>Frequency=%{y}<extra></extra>",
         "legendgroup": "",
         "marker": {
          "color": "#636efa"
         },
         "name": "",
         "offsetgroup": "",
         "orientation": "v",
         "showlegend": false,
         "textposition": "auto",
         "type": "bar",
         "x": [
          "williamstown",
          "altona",
          "beach",
          "timeline",
          "initiated",
          "good",
          "melbourne",
          "day",
          "get",
          "like"
         ],
         "xaxis": "x",
         "y": [
          341,
          246,
          190,
          178,
          172,
          163,
          145,
          136,
          123,
          102
         ],
         "yaxis": "y"
        }
       ],
       "layout": {
        "barmode": "relative",
        "legend": {
         "tracegroupgap": 0
        },
        "margin": {
         "t": 60
        },
        "template": {
         "data": {
          "bar": [
           {
            "error_x": {
             "color": "#2a3f5f"
            },
            "error_y": {
             "color": "#2a3f5f"
            },
            "marker": {
             "line": {
              "color": "#E5ECF6",
              "width": 0.5
             }
            },
            "type": "bar"
           }
          ],
          "barpolar": [
           {
            "marker": {
             "line": {
              "color": "#E5ECF6",
              "width": 0.5
             }
            },
            "type": "barpolar"
           }
          ],
          "carpet": [
           {
            "aaxis": {
             "endlinecolor": "#2a3f5f",
             "gridcolor": "white",
             "linecolor": "white",
             "minorgridcolor": "white",
             "startlinecolor": "#2a3f5f"
            },
            "baxis": {
             "endlinecolor": "#2a3f5f",
             "gridcolor": "white",
             "linecolor": "white",
             "minorgridcolor": "white",
             "startlinecolor": "#2a3f5f"
            },
            "type": "carpet"
           }
          ],
          "choropleth": [
           {
            "colorbar": {
             "outlinewidth": 0,
             "ticks": ""
            },
            "type": "choropleth"
           }
          ],
          "contour": [
           {
            "colorbar": {
             "outlinewidth": 0,
             "ticks": ""
            },
            "colorscale": [
             [
              0,
              "#0d0887"
             ],
             [
              0.1111111111111111,
              "#46039f"
             ],
             [
              0.2222222222222222,
              "#7201a8"
             ],
             [
              0.3333333333333333,
              "#9c179e"
             ],
             [
              0.4444444444444444,
              "#bd3786"
             ],
             [
              0.5555555555555556,
              "#d8576b"
             ],
             [
              0.6666666666666666,
              "#ed7953"
             ],
             [
              0.7777777777777778,
              "#fb9f3a"
             ],
             [
              0.8888888888888888,
              "#fdca26"
             ],
             [
              1,
              "#f0f921"
             ]
            ],
            "type": "contour"
           }
          ],
          "contourcarpet": [
           {
            "colorbar": {
             "outlinewidth": 0,
             "ticks": ""
            },
            "type": "contourcarpet"
           }
          ],
          "heatmap": [
           {
            "colorbar": {
             "outlinewidth": 0,
             "ticks": ""
            },
            "colorscale": [
             [
              0,
              "#0d0887"
             ],
             [
              0.1111111111111111,
              "#46039f"
             ],
             [
              0.2222222222222222,
              "#7201a8"
             ],
             [
              0.3333333333333333,
              "#9c179e"
             ],
             [
              0.4444444444444444,
              "#bd3786"
             ],
             [
              0.5555555555555556,
              "#d8576b"
             ],
             [
              0.6666666666666666,
              "#ed7953"
             ],
             [
              0.7777777777777778,
              "#fb9f3a"
             ],
             [
              0.8888888888888888,
              "#fdca26"
             ],
             [
              1,
              "#f0f921"
             ]
            ],
            "type": "heatmap"
           }
          ],
          "heatmapgl": [
           {
            "colorbar": {
             "outlinewidth": 0,
             "ticks": ""
            },
            "colorscale": [
             [
              0,
              "#0d0887"
             ],
             [
              0.1111111111111111,
              "#46039f"
             ],
             [
              0.2222222222222222,
              "#7201a8"
             ],
             [
              0.3333333333333333,
              "#9c179e"
             ],
             [
              0.4444444444444444,
              "#bd3786"
             ],
             [
              0.5555555555555556,
              "#d8576b"
             ],
             [
              0.6666666666666666,
              "#ed7953"
             ],
             [
              0.7777777777777778,
              "#fb9f3a"
             ],
             [
              0.8888888888888888,
              "#fdca26"
             ],
             [
              1,
              "#f0f921"
             ]
            ],
            "type": "heatmapgl"
           }
          ],
          "histogram": [
           {
            "marker": {
             "colorbar": {
              "outlinewidth": 0,
              "ticks": ""
             }
            },
            "type": "histogram"
           }
          ],
          "histogram2d": [
           {
            "colorbar": {
             "outlinewidth": 0,
             "ticks": ""
            },
            "colorscale": [
             [
              0,
              "#0d0887"
             ],
             [
              0.1111111111111111,
              "#46039f"
             ],
             [
              0.2222222222222222,
              "#7201a8"
             ],
             [
              0.3333333333333333,
              "#9c179e"
             ],
             [
              0.4444444444444444,
              "#bd3786"
             ],
             [
              0.5555555555555556,
              "#d8576b"
             ],
             [
              0.6666666666666666,
              "#ed7953"
             ],
             [
              0.7777777777777778,
              "#fb9f3a"
             ],
             [
              0.8888888888888888,
              "#fdca26"
             ],
             [
              1,
              "#f0f921"
             ]
            ],
            "type": "histogram2d"
           }
          ],
          "histogram2dcontour": [
           {
            "colorbar": {
             "outlinewidth": 0,
             "ticks": ""
            },
            "colorscale": [
             [
              0,
              "#0d0887"
             ],
             [
              0.1111111111111111,
              "#46039f"
             ],
             [
              0.2222222222222222,
              "#7201a8"
             ],
             [
              0.3333333333333333,
              "#9c179e"
             ],
             [
              0.4444444444444444,
              "#bd3786"
             ],
             [
              0.5555555555555556,
              "#d8576b"
             ],
             [
              0.6666666666666666,
              "#ed7953"
             ],
             [
              0.7777777777777778,
              "#fb9f3a"
             ],
             [
              0.8888888888888888,
              "#fdca26"
             ],
             [
              1,
              "#f0f921"
             ]
            ],
            "type": "histogram2dcontour"
           }
          ],
          "mesh3d": [
           {
            "colorbar": {
             "outlinewidth": 0,
             "ticks": ""
            },
            "type": "mesh3d"
           }
          ],
          "parcoords": [
           {
            "line": {
             "colorbar": {
              "outlinewidth": 0,
              "ticks": ""
             }
            },
            "type": "parcoords"
           }
          ],
          "pie": [
           {
            "automargin": true,
            "type": "pie"
           }
          ],
          "scatter": [
           {
            "marker": {
             "colorbar": {
              "outlinewidth": 0,
              "ticks": ""
             }
            },
            "type": "scatter"
           }
          ],
          "scatter3d": [
           {
            "line": {
             "colorbar": {
              "outlinewidth": 0,
              "ticks": ""
             }
            },
            "marker": {
             "colorbar": {
              "outlinewidth": 0,
              "ticks": ""
             }
            },
            "type": "scatter3d"
           }
          ],
          "scattercarpet": [
           {
            "marker": {
             "colorbar": {
              "outlinewidth": 0,
              "ticks": ""
             }
            },
            "type": "scattercarpet"
           }
          ],
          "scattergeo": [
           {
            "marker": {
             "colorbar": {
              "outlinewidth": 0,
              "ticks": ""
             }
            },
            "type": "scattergeo"
           }
          ],
          "scattergl": [
           {
            "marker": {
             "colorbar": {
              "outlinewidth": 0,
              "ticks": ""
             }
            },
            "type": "scattergl"
           }
          ],
          "scattermapbox": [
           {
            "marker": {
             "colorbar": {
              "outlinewidth": 0,
              "ticks": ""
             }
            },
            "type": "scattermapbox"
           }
          ],
          "scatterpolar": [
           {
            "marker": {
             "colorbar": {
              "outlinewidth": 0,
              "ticks": ""
             }
            },
            "type": "scatterpolar"
           }
          ],
          "scatterpolargl": [
           {
            "marker": {
             "colorbar": {
              "outlinewidth": 0,
              "ticks": ""
             }
            },
            "type": "scatterpolargl"
           }
          ],
          "scatterternary": [
           {
            "marker": {
             "colorbar": {
              "outlinewidth": 0,
              "ticks": ""
             }
            },
            "type": "scatterternary"
           }
          ],
          "surface": [
           {
            "colorbar": {
             "outlinewidth": 0,
             "ticks": ""
            },
            "colorscale": [
             [
              0,
              "#0d0887"
             ],
             [
              0.1111111111111111,
              "#46039f"
             ],
             [
              0.2222222222222222,
              "#7201a8"
             ],
             [
              0.3333333333333333,
              "#9c179e"
             ],
             [
              0.4444444444444444,
              "#bd3786"
             ],
             [
              0.5555555555555556,
              "#d8576b"
             ],
             [
              0.6666666666666666,
              "#ed7953"
             ],
             [
              0.7777777777777778,
              "#fb9f3a"
             ],
             [
              0.8888888888888888,
              "#fdca26"
             ],
             [
              1,
              "#f0f921"
             ]
            ],
            "type": "surface"
           }
          ],
          "table": [
           {
            "cells": {
             "fill": {
              "color": "#EBF0F8"
             },
             "line": {
              "color": "white"
             }
            },
            "header": {
             "fill": {
              "color": "#C8D4E3"
             },
             "line": {
              "color": "white"
             }
            },
            "type": "table"
           }
          ]
         },
         "layout": {
          "annotationdefaults": {
           "arrowcolor": "#2a3f5f",
           "arrowhead": 0,
           "arrowwidth": 1
          },
          "coloraxis": {
           "colorbar": {
            "outlinewidth": 0,
            "ticks": ""
           }
          },
          "colorscale": {
           "diverging": [
            [
             0,
             "#8e0152"
            ],
            [
             0.1,
             "#c51b7d"
            ],
            [
             0.2,
             "#de77ae"
            ],
            [
             0.3,
             "#f1b6da"
            ],
            [
             0.4,
             "#fde0ef"
            ],
            [
             0.5,
             "#f7f7f7"
            ],
            [
             0.6,
             "#e6f5d0"
            ],
            [
             0.7,
             "#b8e186"
            ],
            [
             0.8,
             "#7fbc41"
            ],
            [
             0.9,
             "#4d9221"
            ],
            [
             1,
             "#276419"
            ]
           ],
           "sequential": [
            [
             0,
             "#0d0887"
            ],
            [
             0.1111111111111111,
             "#46039f"
            ],
            [
             0.2222222222222222,
             "#7201a8"
            ],
            [
             0.3333333333333333,
             "#9c179e"
            ],
            [
             0.4444444444444444,
             "#bd3786"
            ],
            [
             0.5555555555555556,
             "#d8576b"
            ],
            [
             0.6666666666666666,
             "#ed7953"
            ],
            [
             0.7777777777777778,
             "#fb9f3a"
            ],
            [
             0.8888888888888888,
             "#fdca26"
            ],
            [
             1,
             "#f0f921"
            ]
           ],
           "sequentialminus": [
            [
             0,
             "#0d0887"
            ],
            [
             0.1111111111111111,
             "#46039f"
            ],
            [
             0.2222222222222222,
             "#7201a8"
            ],
            [
             0.3333333333333333,
             "#9c179e"
            ],
            [
             0.4444444444444444,
             "#bd3786"
            ],
            [
             0.5555555555555556,
             "#d8576b"
            ],
            [
             0.6666666666666666,
             "#ed7953"
            ],
            [
             0.7777777777777778,
             "#fb9f3a"
            ],
            [
             0.8888888888888888,
             "#fdca26"
            ],
            [
             1,
             "#f0f921"
            ]
           ]
          },
          "colorway": [
           "#636efa",
           "#EF553B",
           "#00cc96",
           "#ab63fa",
           "#FFA15A",
           "#19d3f3",
           "#FF6692",
           "#B6E880",
           "#FF97FF",
           "#FECB52"
          ],
          "font": {
           "color": "#2a3f5f"
          },
          "geo": {
           "bgcolor": "white",
           "lakecolor": "white",
           "landcolor": "#E5ECF6",
           "showlakes": true,
           "showland": true,
           "subunitcolor": "white"
          },
          "hoverlabel": {
           "align": "left"
          },
          "hovermode": "closest",
          "mapbox": {
           "style": "light"
          },
          "paper_bgcolor": "white",
          "plot_bgcolor": "#E5ECF6",
          "polar": {
           "angularaxis": {
            "gridcolor": "white",
            "linecolor": "white",
            "ticks": ""
           },
           "bgcolor": "#E5ECF6",
           "radialaxis": {
            "gridcolor": "white",
            "linecolor": "white",
            "ticks": ""
           }
          },
          "scene": {
           "xaxis": {
            "backgroundcolor": "#E5ECF6",
            "gridcolor": "white",
            "gridwidth": 2,
            "linecolor": "white",
            "showbackground": true,
            "ticks": "",
            "zerolinecolor": "white"
           },
           "yaxis": {
            "backgroundcolor": "#E5ECF6",
            "gridcolor": "white",
            "gridwidth": 2,
            "linecolor": "white",
            "showbackground": true,
            "ticks": "",
            "zerolinecolor": "white"
           },
           "zaxis": {
            "backgroundcolor": "#E5ECF6",
            "gridcolor": "white",
            "gridwidth": 2,
            "linecolor": "white",
            "showbackground": true,
            "ticks": "",
            "zerolinecolor": "white"
           }
          },
          "shapedefaults": {
           "line": {
            "color": "#2a3f5f"
           }
          },
          "ternary": {
           "aaxis": {
            "gridcolor": "white",
            "linecolor": "white",
            "ticks": ""
           },
           "baxis": {
            "gridcolor": "white",
            "linecolor": "white",
            "ticks": ""
           },
           "bgcolor": "#E5ECF6",
           "caxis": {
            "gridcolor": "white",
            "linecolor": "white",
            "ticks": ""
           }
          },
          "title": {
           "x": 0.05
          },
          "xaxis": {
           "automargin": true,
           "gridcolor": "white",
           "linecolor": "white",
           "ticks": "",
           "title": {
            "standoff": 15
           },
           "zerolinecolor": "white",
           "zerolinewidth": 2
          },
          "yaxis": {
           "automargin": true,
           "gridcolor": "white",
           "linecolor": "white",
           "ticks": "",
           "title": {
            "standoff": 15
           },
           "zerolinecolor": "white",
           "zerolinewidth": 2
          }
         }
        },
        "xaxis": {
         "anchor": "y",
         "domain": [
          0,
          1
         ],
         "title": {
          "text": "Word"
         }
        },
        "yaxis": {
         "anchor": "x",
         "domain": [
          0,
          1
         ],
         "title": {
          "text": "Frequency"
         }
        }
       }
      },
      "text/html": [
       "<div>\n",
       "        \n",
       "        \n",
       "            <div id=\"55f1ea4e-5a60-4c01-933b-5aefb3f3ae5d\" class=\"plotly-graph-div\" style=\"height:525px; width:100%;\"></div>\n",
       "            <script type=\"text/javascript\">\n",
       "                require([\"plotly\"], function(Plotly) {\n",
       "                    window.PLOTLYENV=window.PLOTLYENV || {};\n",
       "                    \n",
       "                if (document.getElementById(\"55f1ea4e-5a60-4c01-933b-5aefb3f3ae5d\")) {\n",
       "                    Plotly.newPlot(\n",
       "                        '55f1ea4e-5a60-4c01-933b-5aefb3f3ae5d',\n",
       "                        [{\"alignmentgroup\": \"True\", \"hovertemplate\": \"Word=%{x}<br>Frequency=%{y}<extra></extra>\", \"legendgroup\": \"\", \"marker\": {\"color\": \"#636efa\"}, \"name\": \"\", \"offsetgroup\": \"\", \"orientation\": \"v\", \"showlegend\": false, \"textposition\": \"auto\", \"type\": \"bar\", \"x\": [\"williamstown\", \"altona\", \"beach\", \"timeline\", \"initiated\", \"good\", \"melbourne\", \"day\", \"get\", \"like\"], \"xaxis\": \"x\", \"y\": [341, 246, 190, 178, 172, 163, 145, 136, 123, 102], \"yaxis\": \"y\"}],\n",
       "                        {\"barmode\": \"relative\", \"legend\": {\"tracegroupgap\": 0}, \"margin\": {\"t\": 60}, \"template\": {\"data\": {\"bar\": [{\"error_x\": {\"color\": \"#2a3f5f\"}, \"error_y\": {\"color\": \"#2a3f5f\"}, \"marker\": {\"line\": {\"color\": \"#E5ECF6\", \"width\": 0.5}}, \"type\": \"bar\"}], \"barpolar\": [{\"marker\": {\"line\": {\"color\": \"#E5ECF6\", \"width\": 0.5}}, \"type\": \"barpolar\"}], \"carpet\": [{\"aaxis\": {\"endlinecolor\": \"#2a3f5f\", \"gridcolor\": \"white\", \"linecolor\": \"white\", \"minorgridcolor\": \"white\", \"startlinecolor\": \"#2a3f5f\"}, \"baxis\": {\"endlinecolor\": \"#2a3f5f\", \"gridcolor\": \"white\", \"linecolor\": \"white\", \"minorgridcolor\": \"white\", \"startlinecolor\": \"#2a3f5f\"}, \"type\": \"carpet\"}], \"choropleth\": [{\"colorbar\": {\"outlinewidth\": 0, \"ticks\": \"\"}, \"type\": \"choropleth\"}], \"contour\": [{\"colorbar\": {\"outlinewidth\": 0, \"ticks\": \"\"}, \"colorscale\": [[0.0, \"#0d0887\"], [0.1111111111111111, \"#46039f\"], [0.2222222222222222, \"#7201a8\"], [0.3333333333333333, \"#9c179e\"], [0.4444444444444444, \"#bd3786\"], [0.5555555555555556, \"#d8576b\"], [0.6666666666666666, \"#ed7953\"], [0.7777777777777778, \"#fb9f3a\"], [0.8888888888888888, \"#fdca26\"], [1.0, \"#f0f921\"]], \"type\": \"contour\"}], \"contourcarpet\": [{\"colorbar\": {\"outlinewidth\": 0, \"ticks\": \"\"}, \"type\": \"contourcarpet\"}], \"heatmap\": [{\"colorbar\": {\"outlinewidth\": 0, \"ticks\": \"\"}, \"colorscale\": [[0.0, \"#0d0887\"], [0.1111111111111111, \"#46039f\"], [0.2222222222222222, \"#7201a8\"], [0.3333333333333333, \"#9c179e\"], [0.4444444444444444, \"#bd3786\"], [0.5555555555555556, \"#d8576b\"], [0.6666666666666666, \"#ed7953\"], [0.7777777777777778, \"#fb9f3a\"], [0.8888888888888888, \"#fdca26\"], [1.0, \"#f0f921\"]], \"type\": \"heatmap\"}], \"heatmapgl\": [{\"colorbar\": {\"outlinewidth\": 0, \"ticks\": \"\"}, \"colorscale\": [[0.0, \"#0d0887\"], [0.1111111111111111, \"#46039f\"], [0.2222222222222222, \"#7201a8\"], [0.3333333333333333, \"#9c179e\"], [0.4444444444444444, \"#bd3786\"], [0.5555555555555556, \"#d8576b\"], [0.6666666666666666, \"#ed7953\"], [0.7777777777777778, \"#fb9f3a\"], [0.8888888888888888, \"#fdca26\"], [1.0, \"#f0f921\"]], \"type\": \"heatmapgl\"}], \"histogram\": [{\"marker\": {\"colorbar\": {\"outlinewidth\": 0, \"ticks\": \"\"}}, \"type\": \"histogram\"}], \"histogram2d\": [{\"colorbar\": {\"outlinewidth\": 0, \"ticks\": \"\"}, \"colorscale\": [[0.0, \"#0d0887\"], [0.1111111111111111, \"#46039f\"], [0.2222222222222222, \"#7201a8\"], [0.3333333333333333, \"#9c179e\"], [0.4444444444444444, \"#bd3786\"], [0.5555555555555556, \"#d8576b\"], [0.6666666666666666, \"#ed7953\"], [0.7777777777777778, \"#fb9f3a\"], [0.8888888888888888, \"#fdca26\"], [1.0, \"#f0f921\"]], \"type\": \"histogram2d\"}], \"histogram2dcontour\": [{\"colorbar\": {\"outlinewidth\": 0, \"ticks\": \"\"}, \"colorscale\": [[0.0, \"#0d0887\"], [0.1111111111111111, \"#46039f\"], [0.2222222222222222, \"#7201a8\"], [0.3333333333333333, \"#9c179e\"], [0.4444444444444444, \"#bd3786\"], [0.5555555555555556, \"#d8576b\"], [0.6666666666666666, \"#ed7953\"], [0.7777777777777778, \"#fb9f3a\"], [0.8888888888888888, \"#fdca26\"], [1.0, \"#f0f921\"]], \"type\": \"histogram2dcontour\"}], \"mesh3d\": [{\"colorbar\": {\"outlinewidth\": 0, \"ticks\": \"\"}, \"type\": \"mesh3d\"}], \"parcoords\": [{\"line\": {\"colorbar\": {\"outlinewidth\": 0, \"ticks\": \"\"}}, \"type\": \"parcoords\"}], \"pie\": [{\"automargin\": true, \"type\": \"pie\"}], \"scatter\": [{\"marker\": {\"colorbar\": {\"outlinewidth\": 0, \"ticks\": \"\"}}, \"type\": \"scatter\"}], \"scatter3d\": [{\"line\": {\"colorbar\": {\"outlinewidth\": 0, \"ticks\": \"\"}}, \"marker\": {\"colorbar\": {\"outlinewidth\": 0, \"ticks\": \"\"}}, \"type\": \"scatter3d\"}], \"scattercarpet\": [{\"marker\": {\"colorbar\": {\"outlinewidth\": 0, \"ticks\": \"\"}}, \"type\": \"scattercarpet\"}], \"scattergeo\": [{\"marker\": {\"colorbar\": {\"outlinewidth\": 0, \"ticks\": \"\"}}, \"type\": \"scattergeo\"}], \"scattergl\": [{\"marker\": {\"colorbar\": {\"outlinewidth\": 0, \"ticks\": \"\"}}, \"type\": \"scattergl\"}], \"scattermapbox\": [{\"marker\": {\"colorbar\": {\"outlinewidth\": 0, \"ticks\": \"\"}}, \"type\": \"scattermapbox\"}], \"scatterpolar\": [{\"marker\": {\"colorbar\": {\"outlinewidth\": 0, \"ticks\": \"\"}}, \"type\": \"scatterpolar\"}], \"scatterpolargl\": [{\"marker\": {\"colorbar\": {\"outlinewidth\": 0, \"ticks\": \"\"}}, \"type\": \"scatterpolargl\"}], \"scatterternary\": [{\"marker\": {\"colorbar\": {\"outlinewidth\": 0, \"ticks\": \"\"}}, \"type\": \"scatterternary\"}], \"surface\": [{\"colorbar\": {\"outlinewidth\": 0, \"ticks\": \"\"}, \"colorscale\": [[0.0, \"#0d0887\"], [0.1111111111111111, \"#46039f\"], [0.2222222222222222, \"#7201a8\"], [0.3333333333333333, \"#9c179e\"], [0.4444444444444444, \"#bd3786\"], [0.5555555555555556, \"#d8576b\"], [0.6666666666666666, \"#ed7953\"], [0.7777777777777778, \"#fb9f3a\"], [0.8888888888888888, \"#fdca26\"], [1.0, \"#f0f921\"]], \"type\": \"surface\"}], \"table\": [{\"cells\": {\"fill\": {\"color\": \"#EBF0F8\"}, \"line\": {\"color\": \"white\"}}, \"header\": {\"fill\": {\"color\": \"#C8D4E3\"}, \"line\": {\"color\": \"white\"}}, \"type\": \"table\"}]}, \"layout\": {\"annotationdefaults\": {\"arrowcolor\": \"#2a3f5f\", \"arrowhead\": 0, \"arrowwidth\": 1}, \"coloraxis\": {\"colorbar\": {\"outlinewidth\": 0, \"ticks\": \"\"}}, \"colorscale\": {\"diverging\": [[0, \"#8e0152\"], [0.1, \"#c51b7d\"], [0.2, \"#de77ae\"], [0.3, \"#f1b6da\"], [0.4, \"#fde0ef\"], [0.5, \"#f7f7f7\"], [0.6, \"#e6f5d0\"], [0.7, \"#b8e186\"], [0.8, \"#7fbc41\"], [0.9, \"#4d9221\"], [1, \"#276419\"]], \"sequential\": [[0.0, \"#0d0887\"], [0.1111111111111111, \"#46039f\"], [0.2222222222222222, \"#7201a8\"], [0.3333333333333333, \"#9c179e\"], [0.4444444444444444, \"#bd3786\"], [0.5555555555555556, \"#d8576b\"], [0.6666666666666666, \"#ed7953\"], [0.7777777777777778, \"#fb9f3a\"], [0.8888888888888888, \"#fdca26\"], [1.0, \"#f0f921\"]], \"sequentialminus\": [[0.0, \"#0d0887\"], [0.1111111111111111, \"#46039f\"], [0.2222222222222222, \"#7201a8\"], [0.3333333333333333, \"#9c179e\"], [0.4444444444444444, \"#bd3786\"], [0.5555555555555556, \"#d8576b\"], [0.6666666666666666, \"#ed7953\"], [0.7777777777777778, \"#fb9f3a\"], [0.8888888888888888, \"#fdca26\"], [1.0, \"#f0f921\"]]}, \"colorway\": [\"#636efa\", \"#EF553B\", \"#00cc96\", \"#ab63fa\", \"#FFA15A\", \"#19d3f3\", \"#FF6692\", \"#B6E880\", \"#FF97FF\", \"#FECB52\"], \"font\": {\"color\": \"#2a3f5f\"}, \"geo\": {\"bgcolor\": \"white\", \"lakecolor\": \"white\", \"landcolor\": \"#E5ECF6\", \"showlakes\": true, \"showland\": true, \"subunitcolor\": \"white\"}, \"hoverlabel\": {\"align\": \"left\"}, \"hovermode\": \"closest\", \"mapbox\": {\"style\": \"light\"}, \"paper_bgcolor\": \"white\", \"plot_bgcolor\": \"#E5ECF6\", \"polar\": {\"angularaxis\": {\"gridcolor\": \"white\", \"linecolor\": \"white\", \"ticks\": \"\"}, \"bgcolor\": \"#E5ECF6\", \"radialaxis\": {\"gridcolor\": \"white\", \"linecolor\": \"white\", \"ticks\": \"\"}}, \"scene\": {\"xaxis\": {\"backgroundcolor\": \"#E5ECF6\", \"gridcolor\": \"white\", \"gridwidth\": 2, \"linecolor\": \"white\", \"showbackground\": true, \"ticks\": \"\", \"zerolinecolor\": \"white\"}, \"yaxis\": {\"backgroundcolor\": \"#E5ECF6\", \"gridcolor\": \"white\", \"gridwidth\": 2, \"linecolor\": \"white\", \"showbackground\": true, \"ticks\": \"\", \"zerolinecolor\": \"white\"}, \"zaxis\": {\"backgroundcolor\": \"#E5ECF6\", \"gridcolor\": \"white\", \"gridwidth\": 2, \"linecolor\": \"white\", \"showbackground\": true, \"ticks\": \"\", \"zerolinecolor\": \"white\"}}, \"shapedefaults\": {\"line\": {\"color\": \"#2a3f5f\"}}, \"ternary\": {\"aaxis\": {\"gridcolor\": \"white\", \"linecolor\": \"white\", \"ticks\": \"\"}, \"baxis\": {\"gridcolor\": \"white\", \"linecolor\": \"white\", \"ticks\": \"\"}, \"bgcolor\": \"#E5ECF6\", \"caxis\": {\"gridcolor\": \"white\", \"linecolor\": \"white\", \"ticks\": \"\"}}, \"title\": {\"x\": 0.05}, \"xaxis\": {\"automargin\": true, \"gridcolor\": \"white\", \"linecolor\": \"white\", \"ticks\": \"\", \"title\": {\"standoff\": 15}, \"zerolinecolor\": \"white\", \"zerolinewidth\": 2}, \"yaxis\": {\"automargin\": true, \"gridcolor\": \"white\", \"linecolor\": \"white\", \"ticks\": \"\", \"title\": {\"standoff\": 15}, \"zerolinecolor\": \"white\", \"zerolinewidth\": 2}}}, \"xaxis\": {\"anchor\": \"y\", \"domain\": [0.0, 1.0], \"title\": {\"text\": \"Word\"}}, \"yaxis\": {\"anchor\": \"x\", \"domain\": [0.0, 1.0], \"title\": {\"text\": \"Frequency\"}}},\n",
       "                        {\"responsive\": true}\n",
       "                    ).then(function(){\n",
       "                            \n",
       "var gd = document.getElementById('55f1ea4e-5a60-4c01-933b-5aefb3f3ae5d');\n",
       "var x = new MutationObserver(function (mutations, observer) {{\n",
       "        var display = window.getComputedStyle(gd).display;\n",
       "        if (!display || display === 'none') {{\n",
       "            console.log([gd, 'removed!']);\n",
       "            Plotly.purge(gd);\n",
       "            observer.disconnect();\n",
       "        }}\n",
       "}});\n",
       "\n",
       "// Listen for the removal of the full notebook cells\n",
       "var notebookContainer = gd.closest('#notebook-container');\n",
       "if (notebookContainer) {{\n",
       "    x.observe(notebookContainer, {childList: true});\n",
       "}}\n",
       "\n",
       "// Listen for the clearing of the current output cell\n",
       "var outputEl = gd.closest('.output');\n",
       "if (outputEl) {{\n",
       "    x.observe(outputEl, {childList: true});\n",
       "}}\n",
       "\n",
       "                        })\n",
       "                };\n",
       "                });\n",
       "            </script>\n",
       "        </div>"
      ]
     },
     "metadata": {},
     "output_type": "display_data"
    }
   ],
   "source": [
    "import plotly.express as px\n",
    "import pandas as pd\n",
    "fd = pd.DataFrame(most_freq['Hobsons Bay'],columns = [\"Word\",\"Frequency\"])\n",
    "fig = px.bar(fd, x=\"Word\", y=\"Frequency\")\n",
    "fig.show()"
   ]
  },
  {
   "cell_type": "code",
   "execution_count": 93,
   "metadata": {},
   "outputs": [
    {
     "name": "stderr",
     "output_type": "stream",
     "text": [
      "                                                              \r"
     ]
    },
    {
     "data": {
      "text/plain": [
       "[('melbourne', 35999),\n",
       " ('today', 31694),\n",
       " ('rain', 27254),\n",
       " ('humidity', 27010),\n",
       " ('temperature', 26984),\n",
       " ('barometer', 26960),\n",
       " ('hpa', 26960),\n",
       " ('wind', 17055),\n",
       " ('slowly', 17009),\n",
       " ('rising', 12442)]"
      ]
     },
     "execution_count": 93,
     "metadata": {},
     "output_type": "execute_result"
    }
   ],
   "source": [
    "# for all tweets\n",
    "from tqdm import tqdm\n",
    "longtext = \"\"\n",
    "for each in tqdm(tweets[\"doc\"]):\n",
    "    longtext += each[\"text\"]\n",
    "    \n",
    "content = longtext\n",
    "content = re.sub(r\"http\\S+\", \"\", content)\n",
    "content = content.replace('RT ', ' ').replace('&amp;', 'and')\n",
    "content = re.sub('[^A-Za-z]+', ' ', content)\n",
    "content = content.lower()\n",
    "    \n",
    "tokenized_word = word_tokenize(content)\n",
    "stop_words=set(stopwords.words(\"english\"))\n",
    "filtered_sent=[]\n",
    "for w in tqdm(tokenized_word):\n",
    "    if w not in stop_words and len(w)>2:\n",
    "        filtered_sent.append(w)\n",
    "fdist = FreqDist(filtered_sent)\n",
    "fdist.most_common(10)"
   ]
  },
  {
   "cell_type": "code",
   "execution_count": null,
   "metadata": {},
   "outputs": [],
   "source": []
  },
  {
   "cell_type": "markdown",
   "metadata": {},
   "source": [
    "# Process\n",
    "1. tokenize words from twitter\n",
    "2. remove stop words, lower word frequency? keep hashtags.\n",
    "3. genertae feature vector\n",
    "    a. for each tweet, for word in feature, if word in tweet: 1 else: 0\n",
    "    b. "
   ]
  },
  {
   "cell_type": "code",
   "execution_count": 2,
   "metadata": {},
   "outputs": [
    {
     "name": "stderr",
     "output_type": "stream",
     "text": [
      "[nltk_data] Downloading package stopwords to              \n",
      "[nltk_data]     /Users/huangraelene/nltk_data...\n",
      "[nltk_data]   Package stopwords is already up-to-date!\n",
      "                                                       "
     ]
    },
    {
     "name": "stdout",
     "output_type": "stream",
     "text": [
      "0.40998250246047974  minutes\n"
     ]
    },
    {
     "name": "stderr",
     "output_type": "stream",
     "text": [
      "\r"
     ]
    }
   ],
   "source": [
    "from tqdm import tqdm\n",
    "from wordfreq import word_frequency as wf\n",
    "import time\n",
    "import re\n",
    "\n",
    "def deEmojify(inputString):\n",
    "    return inputString.encode('ascii', 'ignore').decode('ascii')\n",
    "\n",
    "def chop(word):\n",
    "    word = word.lower()\n",
    "    if word.startswith(\"http\") == True or len(word)<3:\n",
    "        return None\n",
    "    e = re.search(\"[0123456789'!\\\"#$%&'()*+,-./:;<=>?@[\\\\]^_`{|}~']\",word)\n",
    "    if e:\n",
    "        if e.start() == 0 or len(word[:e.start()])<3:\n",
    "            return None\n",
    "        return word[:e.start()]\n",
    "    return word\n",
    "\n",
    "start = time.time()\n",
    "\n",
    "word_list = []\n",
    "for each in tqdm(tweets[\"doc\"]):\n",
    "    token = deEmojify(each[\"text\"].lower()).split()\n",
    "    \n",
    "    for each in token:\n",
    "        word = chop(each)\n",
    "        if word != None:\n",
    "            word_list += [word]\n",
    "\n",
    "import nltk\n",
    "from collections import Counter\n",
    "from nltk.corpus import stopwords \n",
    "nltk.download('stopwords')\n",
    "\n",
    "# removing stop words\n",
    "unique = Counter(word_list)\n",
    "features = list(unique.keys())\n",
    "for each in tqdm(features):\n",
    "    if each in stopwords.words('english'):\n",
    "        features.remove(each)\n",
    "\n",
    "end = time.time()\n",
    "print((end-start)/60, \" minutes\")"
   ]
  },
  {
   "cell_type": "code",
   "execution_count": 3,
   "metadata": {
    "scrolled": true
   },
   "outputs": [
    {
     "data": {
      "text/plain": [
       "87612"
      ]
     },
     "execution_count": 3,
     "metadata": {},
     "output_type": "execute_result"
    }
   ],
   "source": [
    "len(features)"
   ]
  },
  {
   "cell_type": "code",
   "execution_count": 186,
   "metadata": {},
   "outputs": [
    {
     "name": "stderr",
     "output_type": "stream",
     "text": [
      "                                                        \r"
     ]
    },
    {
     "data": {
      "text/plain": [
       "70113"
      ]
     },
     "execution_count": 186,
     "metadata": {},
     "output_type": "execute_result"
    }
   ],
   "source": [
    "from nltk.stem import PorterStemmer\n",
    "stem_features = []\n",
    "porter = PorterStemmer()\n",
    "for each in tqdm(features):\n",
    "    stem_features.append(porter.stem(each))\n",
    "len(Counter(stem_features).keys())"
   ]
  },
  {
   "cell_type": "code",
   "execution_count": 5,
   "metadata": {},
   "outputs": [
    {
     "name": "stdout",
     "output_type": "stream",
     "text": [
      "986\n"
     ]
    }
   ],
   "source": [
    "freq = []\n",
    "for each in features:\n",
    "    if wf(each, 'en') > 0.00009:\n",
    "        freq += [each]\n",
    "print(len(freq))"
   ]
  },
  {
   "cell_type": "code",
   "execution_count": 8,
   "metadata": {},
   "outputs": [
    {
     "name": "stderr",
     "output_type": "stream",
     "text": [
      "                                                           \r"
     ]
    }
   ],
   "source": [
    "from info_gain import info_gain\n",
    "\n",
    "Y = []\n",
    "houseprice = getHousingPrice2014()\n",
    "for each in tqdm(tweets[\"doc\"]):\n",
    "    Y.append(houseprice[each[\"key\"][0]])\n",
    "\n",
    "X = {}\n",
    "\n",
    "for w in tqdm(freq):\n",
    "    #print(\"feature: \", w)\n",
    "    X[w] = []\n",
    "    for each in tweets[\"doc\"]:\n",
    "        s = each[\"text\"].lower()\n",
    "        if w in s:\n",
    "            X[w].append(1)\n",
    "        else:\n",
    "            X[w].append(0)\n",
    "            \n",
    "    #gainratio[w] = info_gain.info_gain_ratio(X[w], Y)\n",
    "    #infogain[w] = info_gain.info_gain(X[w], Y)\n"
   ]
  },
  {
   "cell_type": "code",
   "execution_count": 42,
   "metadata": {},
   "outputs": [
    {
     "name": "stderr",
     "output_type": "stream",
     "text": [
      "                                                 \r"
     ]
    }
   ],
   "source": [
    "infogain = {}\n",
    "for w in tqdm(X.keys()):\n",
    "    infogain[w] = info_gain.info_gain(X[w], Y)"
   ]
  },
  {
   "cell_type": "code",
   "execution_count": 152,
   "metadata": {},
   "outputs": [
    {
     "data": {
      "text/plain": [
       "[]"
      ]
     },
     "execution_count": 152,
     "metadata": {},
     "output_type": "execute_result"
    }
   ],
   "source": [
    "gr2014 = Counter(gainratio).most_common()\n",
    "gr2014"
   ]
  },
  {
   "cell_type": "code",
   "execution_count": 43,
   "metadata": {},
   "outputs": [
    {
     "data": {
      "text/plain": [
       "[('met', 0.04771900912266425),\n",
       " ('today', 0.04456675838785712),\n",
       " ('win', 0.03653714186638779),\n",
       " ('per', 0.03509907956522307),\n",
       " ('day', 0.02440225123097417),\n",
       " ('fall', 0.024338401575000418),\n",
       " ('low', 0.019035395001616162),\n",
       " ('right', 0.0074935387437425754),\n",
       " ('the', 0.00504259674498575),\n",
       " ('field', 0.0029048847027584035),\n",
       " ('town', 0.002545271066535848),\n",
       " ('north', 0.002429143711033463),\n",
       " ('job', 0.002188632372386423),\n",
       " ('one', 0.0021401239131467187),\n",
       " ('park', 0.0020355441837366026),\n",
       " ('south', 0.0019089259956720644),\n",
       " ('follow', 0.0018600100087835525),\n",
       " ('east', 0.0018006612664448057),\n",
       " ('line', 0.00171823074894345),\n",
       " ('street', 0.001551440026720946),\n",
       " ('time', 0.001535524159756746),\n",
       " ('non', 0.0013864399368638536),\n",
       " ('australia', 0.0013490447631275826),\n",
       " ('west', 0.0012868534830436096),\n",
       " ('have', 0.0012676946878832085),\n",
       " ('bank', 0.0011902482936508654),\n",
       " ('box', 0.0011608863687451176),\n",
       " ('hotel', 0.001159220647949183),\n",
       " ('hey', 0.0011375666229494208),\n",
       " ('send', 0.0011221829914099743),\n",
       " ('well', 0.0011104491390844518),\n",
       " ('race', 0.001094700261206831),\n",
       " ('city', 0.001072532435293122),\n",
       " ('sun', 0.0010379989238332166),\n",
       " ('show', 0.0010163756570207988),\n",
       " ('capital', 0.0009912062726403093),\n",
       " ('get', 0.000982829183447026),\n",
       " ('natural', 0.000955521781242398),\n",
       " ('ground', 0.0009389517377738753),\n",
       " ('high', 0.0009379214248351475),\n",
       " ('son', 0.0009122774136462453),\n",
       " ('thing', 0.0009084485878008697),\n",
       " ('point', 0.0008992018728860227),\n",
       " ('rest', 0.000822347561336173),\n",
       " ('run', 0.0008046191514752832),\n",
       " ('new', 0.0007876829002570196),\n",
       " ('please', 0.0007780873091539353),\n",
       " ('market', 0.0007776125798066233),\n",
       " ('university', 0.0007249687923635353),\n",
       " ('dog', 0.0007161821816507666),\n",
       " ('like', 0.0007078603743424228),\n",
       " ('news', 0.000694401304821339),\n",
       " ('this', 0.0006943491110471822),\n",
       " ('think', 0.0006852446799428119),\n",
       " ('course', 0.0006677826707010871),\n",
       " ('super', 0.0006669901688392682),\n",
       " ('hot', 0.0006642859406883472),\n",
       " ('centre', 0.0006583559968781766),\n",
       " ('central', 0.0006506807297364282),\n",
       " ('would', 0.0006504661095619174),\n",
       " ('king', 0.0006440308771106518),\n",
       " ('real', 0.0006400161287161144),\n",
       " ('just', 0.000631596100228976),\n",
       " ('career', 0.0006251989006095318),\n",
       " ('add', 0.0005939300700196284),\n",
       " ('summer', 0.0005710033260779082),\n",
       " ('lose', 0.0005534710317652569),\n",
       " ('fuck', 0.0005531724759886905),\n",
       " ('middle', 0.0005440011090385166),\n",
       " ('ever', 0.0005418084364286202),\n",
       " ('fair', 0.0005344929291203025),\n",
       " ('fire', 0.0005331799828545147),\n",
       " ('round', 0.0005293202718499798),\n",
       " ('train', 0.0005243070569725672),\n",
       " ('eat', 0.0005167963495212036),\n",
       " ('love', 0.0005105214841887584),\n",
       " ('good', 0.0005077502191159489),\n",
       " ('know', 0.0005042864175723027),\n",
       " ('building', 0.0005038897655470741),\n",
       " ('national', 0.0005021775928944379),\n",
       " ('close', 0.0004981976192680315),\n",
       " ('any', 0.0004827795922856537),\n",
       " ('cup', 0.00047459909162313185),\n",
       " ('end', 0.0004638103550937134),\n",
       " ('set', 0.0004562985220851537),\n",
       " ('air', 0.0004519882344600351),\n",
       " ('hate', 0.0004495508275565198),\n",
       " ('left', 0.0004381952725080046),\n",
       " ('watch', 0.00043774969800534913),\n",
       " ('game', 0.0004328767978494727),\n",
       " ('need', 0.00043064265918886513),\n",
       " ('give', 0.00042436000900408083),\n",
       " ('build', 0.0004085446469108654),\n",
       " ('thank', 0.0004082637244617604),\n",
       " ('art', 0.0004001997705552762),\n",
       " ('sound', 0.0003999056782556312),\n",
       " ('official', 0.00039303448970500615),\n",
       " ('look', 0.0003841281196772517),\n",
       " ('half', 0.0003814546183523969),\n",
       " ('want', 0.000381346966188377),\n",
       " ('play', 0.00038131893040661835),\n",
       " ('were', 0.00038067036414497074),\n",
       " ('via', 0.0003806641995109175),\n",
       " ('red', 0.00037808055371339744),\n",
       " ('see', 0.00036876417665579475),\n",
       " ('technology', 0.0003643575901398355),\n",
       " ('yes', 0.00036050714654457805),\n",
       " ('following', 0.00035930574718355014),\n",
       " ('led', 0.00035847142147412553),\n",
       " ('travel', 0.0003579153205367225),\n",
       " ('rock', 0.0003569628772013833),\n",
       " ('business', 0.00035519395380470553),\n",
       " ('quickly', 0.0003526991069461565),\n",
       " ('vote', 0.00035052581366784574),\n",
       " ('able', 0.00034207445555479304),\n",
       " ('make', 0.00034058869210008835),\n",
       " ('track', 0.00033379418619666756),\n",
       " ('movie', 0.00033160388124398726),\n",
       " ('night', 0.00033132549381084675),\n",
       " ('much', 0.00032094637042023866),\n",
       " ('yeah', 0.00031649027640242786),\n",
       " ('near', 0.00031421091518863895),\n",
       " ('really', 0.0003132770942023966),\n",
       " ('got', 0.000308667603740001),\n",
       " ('call', 0.00030251713813832237),\n",
       " ('could', 0.00030198377753604816),\n",
       " ('though', 0.0003005052760577179),\n",
       " ('still', 0.0002984363455799041),\n",
       " ('open', 0.00029751160184051523),\n",
       " ('school', 0.00029563407967580363),\n",
       " ('special', 0.0002955663219214241),\n",
       " ('michael', 0.0002926945405843477),\n",
       " ('act', 0.00029217760759638056),\n",
       " ('beautiful', 0.0002918754414884331),\n",
       " ('less', 0.00028936771112231946),\n",
       " ('way', 0.00028796791396171195),\n",
       " ('hear', 0.0002874605435090258),\n",
       " ('local', 0.0002828953918165983),\n",
       " ('mark', 0.00028002942067098524),\n",
       " ('people', 0.0002790179700612322),\n",
       " ('every', 0.00027846136310441527),\n",
       " ('thanks', 0.000277226264906949),\n",
       " ('hope', 0.0002771057666399804),\n",
       " ('ass', 0.0002769166017991681),\n",
       " ('back', 0.0002735528069735954),\n",
       " ('use', 0.0002697566154926112),\n",
       " ('actually', 0.0002691573300524948),\n",
       " ('done', 0.00026769331500127447),\n",
       " ('may', 0.00026722749395607925),\n",
       " ('take', 0.0002650176084602815),\n",
       " ('come', 0.00026435131106904153),\n",
       " ('going', 0.0002635870159522352),\n",
       " ('class', 0.00026335614272074426),\n",
       " ('fast', 0.00026207435560832854),\n",
       " ('boy', 0.00025992685279879746),\n",
       " ('week', 0.0002597199385010601),\n",
       " ('top', 0.00025952259718629855),\n",
       " ('sea', 0.0002585278150917941),\n",
       " ('general', 0.0002570966870765329),\n",
       " ('western', 0.0002549761230515885),\n",
       " ('say', 0.0002548307043883369),\n",
       " ('bad', 0.00025248847558261706),\n",
       " ('man', 0.00025007857576911374),\n",
       " ('fucking', 0.0002492698946881672),\n",
       " ('sure', 0.000248481660676321),\n",
       " ('shit', 0.0002479786371989215),\n",
       " ('let', 0.00024694907707306646),\n",
       " ('cause', 0.00024454132020167163),\n",
       " ('china', 0.0002443227723743415),\n",
       " ('john', 0.00024415955171147585),\n",
       " ('club', 0.0002435092411253309),\n",
       " ('live', 0.0002430874778717243),\n",
       " ('great', 0.000242687872355693),\n",
       " ('takes', 0.00024115129321564295),\n",
       " ('due', 0.00024032450429596446),\n",
       " ('came', 0.0002384403046292831),\n",
       " ('car', 0.00023801508934989668),\n",
       " ('house', 0.0002377282795224464),\n",
       " ('year', 0.0002371111005474713),\n",
       " ('god', 0.00023652838415281346),\n",
       " ('home', 0.00023640784314950952),\n",
       " ('two', 0.00023570749632458726),\n",
       " ('old', 0.00022969141006792815),\n",
       " ('break', 0.00022009740523856736),\n",
       " ('sex', 0.00021964705820009742),\n",
       " ('post', 0.00021695569871574283),\n",
       " ('rights', 0.00021654345522975887),\n",
       " ('available', 0.0002158261255846717),\n",
       " ('wait', 0.00021473087276461383),\n",
       " ('hospital', 0.0002144190859973208),\n",
       " ('science', 0.00021391560295954196),\n",
       " ('ice', 0.00020937723163649835),\n",
       " ('maybe', 0.00020841781299757445),\n",
       " ('name', 0.00020510422555248403),\n",
       " ('read', 0.00020446224620535025),\n",
       " ('mean', 0.0002029519103068124),\n",
       " ('help', 0.00020114147086523065),\n",
       " ('community', 0.000195644388251634),\n",
       " ('side', 0.0001948614428741724),\n",
       " ('made', 0.0001940614729843762),\n",
       " ('design', 0.00019333086312622524),\n",
       " ('start', 0.00019300782665656463),\n",
       " ('member', 0.00019279486705922264),\n",
       " ('station', 0.00019264108137320018),\n",
       " ('happen', 0.000192118855991949),\n",
       " ('season', 0.00019163053868797436),\n",
       " ('country', 0.00019141233755413066),\n",
       " ('hit', 0.00019077069880439612),\n",
       " ('pay', 0.00018984656670479466),\n",
       " ('style', 0.00018980722283355733),\n",
       " ('kids', 0.00018966523593840628),\n",
       " ('sorry', 0.0001894442129908476),\n",
       " ('best', 0.00018931206098368736),\n",
       " ('etc', 0.00018919905531519093),\n",
       " ('land', 0.000188565112573022),\n",
       " ('work', 0.0001872811716790157),\n",
       " ('baby', 0.00018683256991967878),\n",
       " ('public', 0.0001846964836810551),\n",
       " ('turn', 0.00018454273483860945),\n",
       " ('keep', 0.0001837981314548251),\n",
       " ('girl', 0.0001821390900128561),\n",
       " ('try', 0.0001813054902483971),\n",
       " ('days', 0.00017978250599692824),\n",
       " ('range', 0.0001797569889467332),\n",
       " ('members', 0.0001785726105887923),\n",
       " ('tonight', 0.00017834823190131938),\n",
       " ('feel', 0.00017743992104986978),\n",
       " ('player', 0.00017690467972203416),\n",
       " ('term', 0.00017682327881106755),\n",
       " ('wife', 0.000176769031378185),\n",
       " ('free', 0.00017671029629171692),\n",
       " ('tell', 0.00017622711051899081),\n",
       " ('league', 0.00017608569970150798),\n",
       " ('human', 0.0001749781587971691),\n",
       " ('getting', 0.0001740384213351348),\n",
       " ('coming', 0.0001734906985841264),\n",
       " ('away', 0.00017160785550017835),\n",
       " ('running', 0.0001709978743650361),\n",
       " ('lower', 0.00017097521638319638),\n",
       " ('film', 0.00016894403927652027),\n",
       " ('poor', 0.0001688966731243028),\n",
       " ('cut', 0.0001684100336016084),\n",
       " ('fun', 0.00016837261216359756),\n",
       " ('friday', 0.00016831765614443855),\n",
       " ('table', 0.00016787948541897857),\n",
       " ('star', 0.00016776169412213715),\n",
       " ('thought', 0.00016745756605179157),\n",
       " ('ball', 0.0001669202644124096),\n",
       " ('almost', 0.00016643157367614118),\n",
       " ('word', 0.0001659091535046106),\n",
       " ('wish', 0.00016556749308588997),\n",
       " ('water', 0.00016481910758769577),\n",
       " ('entire', 0.0001641188241051656),\n",
       " ('many', 0.00016238114184689845),\n",
       " ('used', 0.00016197789086771705),\n",
       " ('rate', 0.00016035057598949576),\n",
       " ('yet', 0.00016023563700321222),\n",
       " ('died', 0.0001596626023976479),\n",
       " ('bed', 0.00015919269241508258),\n",
       " ('knew', 0.0001590377341092776),\n",
       " ('brown', 0.00015880439905783042),\n",
       " ('long', 0.00015825291262533403),\n",
       " ('nice', 0.00015767809234445984),\n",
       " ('view', 0.00015741494058955224),\n",
       " ('never', 0.0001571075566143068),\n",
       " ('watching', 0.0001568851833712928),\n",
       " ('bit', 0.00015667515128652),\n",
       " ('chance', 0.00015617052901311865),\n",
       " ('health', 0.00015447035862514724),\n",
       " ('hell', 0.000154337564415713),\n",
       " ('anything', 0.00015357531540900575),\n",
       " ('said', 0.0001531609190362493),\n",
       " ('wrong', 0.00015300627832676508),\n",
       " ('tour', 0.0001526493011970928),\n",
       " ('body', 0.00015227075335130444),\n",
       " ('looks', 0.00015136188871171796),\n",
       " ('life', 0.00015097469269442776),\n",
       " ('welcome', 0.00015096987553563784),\n",
       " ('blue', 0.00015096091963184843),\n",
       " ('conference', 0.00015036318979706753),\n",
       " ('head', 0.00015019188941332862),\n",
       " ('model', 0.00014983017617679895),\n",
       " ('late', 0.00014976955131884573),\n",
       " ('music', 0.00014756983547962316),\n",
       " ('wow', 0.00014732022954099672),\n",
       " ('walk', 0.00014697591925613013),\n",
       " ('ten', 0.00014687286213484196),\n",
       " ('works', 0.00014659992745052683),\n",
       " ('guy', 0.00014612455319667345),\n",
       " ('far', 0.00014592678859495084),\n",
       " ('lot', 0.0001456388770180589),\n",
       " ('big', 0.00014549261969625665),\n",
       " ('training', 0.0001445058873188916),\n",
       " ('support', 0.00014363040600969337),\n",
       " ('room', 0.00014361066726568256),\n",
       " ('also', 0.00014359316846216524),\n",
       " ('hand', 0.00014272138203322987),\n",
       " ('family', 0.0001426937801414542),\n",
       " ('story', 0.00014257155499395116),\n",
       " ('something', 0.00014253878799651287),\n",
       " ('put', 0.00014253414211931603),\n",
       " ('church', 0.00014212328939203905),\n",
       " ('happy', 0.000140896587677658),\n",
       " ('eye', 0.00014044256414260867),\n",
       " ('always', 0.00014030526548678562),\n",
       " ('hair', 0.00013995906094198263),\n",
       " ('pick', 0.00013972199069172547),\n",
       " ('saw', 0.0001393992512762829),\n",
       " ('things', 0.00013901416657160007),\n",
       " ('since', 0.00013803311519930417),\n",
       " ('number', 0.0001377023663832258),\n",
       " ('perfect', 0.00013767201215285352),\n",
       " ('last', 0.00013676431548920176),\n",
       " ('little', 0.00013623419742634507),\n",
       " ('road', 0.00013591133164179287),\n",
       " ('stand', 0.00013573722417285772),\n",
       " ('history', 0.0001357169105133775),\n",
       " ('amazing', 0.0001341873614385536),\n",
       " ('true', 0.00013385890523243127),\n",
       " ('gonna', 0.00013370737750159623),\n",
       " ('ones', 0.00013361648071257004),\n",
       " ('student', 0.00013345632812693936),\n",
       " ('listen', 0.0001327941620792375),\n",
       " ('games', 0.00013273317977685953),\n",
       " ('control', 0.0001323207501790248),\n",
       " ('tomorrow', 0.00013212987864145292),\n",
       " ('speed', 0.00013206381222998116),\n",
       " ('die', 0.00013171129996475406),\n",
       " ('morning', 0.0001308453295264661),\n",
       " ('remember', 0.00013057743260164872),\n",
       " ('team', 0.0001302194279719157),\n",
       " ('court', 0.00013020738527928788),\n",
       " ('size', 0.00012983098589461166),\n",
       " ('nothing', 0.00012972289949277765),\n",
       " ('book', 0.00012919844109724604),\n",
       " ('ways', 0.00012917359100161202),\n",
       " ('blood', 0.00012826627155516565),\n",
       " ('enough', 0.00012790107724275704),\n",
       " ('river', 0.0001276935041359603),\n",
       " ('fact', 0.0001266624820730755),\n",
       " ('full', 0.00012661335210749358),\n",
       " ('saying', 0.00012612600216049992),\n",
       " ('lack', 0.00012556182704646923),\n",
       " ('dead', 0.000125338444081715),\n",
       " ('seem', 0.00012483091120182171),\n",
       " ('gas', 0.00012473838776284538),\n",
       " ('sir', 0.00012457621134371114),\n",
       " ('whole', 0.00012392215782836002),\n",
       " ('part', 0.00012372139341243482),\n",
       " ('times', 0.00012363823700544188),\n",
       " ('answer', 0.000122499996029337),\n",
       " ('management', 0.00012156469903587021),\n",
       " ('miss', 0.00012092383455419159),\n",
       " ('party', 0.00012084847896535328),\n",
       " ('find', 0.00012065999256716253),\n",
       " ('complete', 0.00012041562864139634),\n",
       " ('piece', 0.00012036496869547927),\n",
       " ('sense', 0.00012027901349961033),\n",
       " ('george', 0.00011988340740260763),\n",
       " ('might', 0.00011902990518051007),\n",
       " ('everything', 0.00011892856974444685),\n",
       " ('government', 0.00011871300220994349),\n",
       " ('plan', 0.0001185323790464099),\n",
       " ('child', 0.0001179229313234137),\n",
       " ('themselves', 0.00011783067915060053),\n",
       " ('years', 0.0001172905039169142),\n",
       " ('war', 0.00011665381164494004),\n",
       " ('key', 0.00011648110213518387),\n",
       " ('step', 0.00011633059106716873),\n",
       " ('person', 0.00011603025828786986),\n",
       " ('song', 0.00011478192701620468),\n",
       " ('children', 0.00011391850508822923),\n",
       " ('food', 0.00011366615555125081),\n",
       " ('must', 0.00011366549885494237),\n",
       " ('least', 0.00011286839463222481),\n",
       " ('someone', 0.00011284330220839855),\n",
       " ('care', 0.00011243720930027151),\n",
       " ('check', 0.00011158866280086555),\n",
       " ('media', 0.00011117341877936796),\n",
       " ('guess', 0.0001111222263722178),\n",
       " ('become', 0.00011108515594257691),\n",
       " ('respect', 0.00011095054875086968),\n",
       " ('black', 0.00011088913212318335),\n",
       " ('ask', 0.00011054969670711012),\n",
       " ('election', 0.00011003794380709704),\n",
       " ('serious', 0.0001099653636633044),\n",
       " ('office', 0.00010986355375930748),\n",
       " ('price', 0.0001097695535352567),\n",
       " ('already', 0.00010938108497913351),\n",
       " ('america', 0.00010930165990790004),\n",
       " ('better', 0.00010888234460251778),\n",
       " ('woman', 0.00010846487768374422),\n",
       " ('world', 0.00010842200088560794),\n",
       " ('james', 0.00010790045618721059),\n",
       " ('first', 0.00010680593843739872),\n",
       " ('another', 0.00010677326071075605),\n",
       " ('gets', 0.00010673830061916703),\n",
       " ('drive', 0.00010663023041194986),\n",
       " ('lost', 0.00010610360028718603),\n",
       " ('deal', 0.00010585190994528287),\n",
       " ('fine', 0.000105644162017908),\n",
       " ('board', 0.00010563053585662882),\n",
       " ('project', 0.00010553727736563323),\n",
       " ('words', 0.00010536624584222762),\n",
       " ('heart', 0.00010457043550215692),\n",
       " ('attack', 0.00010398165052866084),\n",
       " ('knows', 0.00010379741762476385),\n",
       " ('beat', 0.00010374326961673855),\n",
       " ('three', 0.00010372979406852827),\n",
       " ('order', 0.00010360492517392378),\n",
       " ('video', 0.00010338312214733247),\n",
       " ('reason', 0.00010307916387537405),\n",
       " ('learn', 0.00010305156650875988),\n",
       " ('lady', 0.00010287214947540813),\n",
       " ('france', 0.00010281105903446348),\n",
       " ('cover', 0.00010272439503171762),\n",
       " ('seems', 0.0001025722201191126),\n",
       " ('married', 0.00010255142029950981),\n",
       " ('sign', 0.00010248847500628905),\n",
       " ('data', 0.00010246123972097905),\n",
       " ('men', 0.00010219152556442679),\n",
       " ('jesus', 0.00010215558715226131),\n",
       " ('next', 0.00010206273198491017),\n",
       " ('image', 0.0001019772543700212),\n",
       " ('funny', 0.00010185462691686235),\n",
       " ('link', 0.00010129422208293368),\n",
       " ('stop', 0.0001009054750893898),\n",
       " ('mine', 0.00010057193451573632),\n",
       " ('kind', 0.00010046919465496462),\n",
       " ('four', 0.00010040241622656654),\n",
       " ('seriously', 0.00010034581611524304),\n",
       " ('age', 0.00010031763524534498),\n",
       " ('seen', 0.00010027888029772933),\n",
       " ('stuff', 9.967809948861067e-05),\n",
       " ('kill', 9.923340409091069e-05),\n",
       " ('whatever', 9.913038415000023e-05),\n",
       " ('soon', 9.88571754937731e-05),\n",
       " ('source', 9.882813953170783e-05),\n",
       " ('followed', 9.842244223938392e-05),\n",
       " ('issue', 9.763448765413331e-05),\n",
       " ('probably', 9.763282962575899e-05),\n",
       " ('direction', 9.723722019200007e-05),\n",
       " ('oil', 9.668002614099391e-05),\n",
       " ('record', 9.653636996098669e-05),\n",
       " ('research', 9.620833839213937e-05),\n",
       " ('women', 9.593586319227992e-05),\n",
       " ('album', 9.592256273613202e-05),\n",
       " ('sleep', 9.57727716040975e-05),\n",
       " ('green', 9.567161621098011e-05),\n",
       " ('american', 9.556303997517758e-05),\n",
       " ('forget', 9.543056512834221e-05),\n",
       " ('result', 9.537670699736461e-05),\n",
       " ('allow', 9.520718228699099e-05),\n",
       " ('football', 9.51835612776012e-05),\n",
       " ('site', 9.502278888178298e-05),\n",
       " ('lives', 9.472823019432593e-05),\n",
       " ('august', 9.468881683150424e-05),\n",
       " ('social', 9.466502348353181e-05),\n",
       " ('hard', 9.464218160971927e-05),\n",
       " ('guys', 9.4513656862312e-05),\n",
       " ('playing', 9.447457526362904e-05),\n",
       " ('wall', 9.442602028396016e-05),\n",
       " ('worth', 9.440350701174494e-05),\n",
       " ('players', 9.370331438759809e-05),\n",
       " ('article', 9.309040543330552e-05),\n",
       " ('director', 9.291637950383392e-05),\n",
       " ('online', 9.27898705569228e-05),\n",
       " ('makes', 9.258406832270138e-05),\n",
       " ('private', 9.187679661589766e-05),\n",
       " ('title', 9.142466438579605e-05),\n",
       " ('tried', 9.101401729163464e-05),\n",
       " ('law', 9.082760775254786e-05),\n",
       " ('past', 9.052664631967189e-05),\n",
       " ('minister', 9.02508061974951e-05),\n",
       " ('writing', 9.003181258540258e-05),\n",
       " ('problem', 8.994841680990892e-05),\n",
       " ('russian', 8.987866281344112e-05),\n",
       " ('trying', 8.891338248581682e-05),\n",
       " ('list', 8.871625214925544e-05),\n",
       " ('girls', 8.859576921854337e-05),\n",
       " ('ready', 8.85653292934177e-05),\n",
       " ('cool', 8.849328127298259e-05),\n",
       " ('inside', 8.812750710734778e-05),\n",
       " ('students', 8.806102545775261e-05),\n",
       " ('hour', 8.803694602756845e-05),\n",
       " ('common', 8.751448438854871e-05),\n",
       " ('mind', 8.749891363495771e-05),\n",
       " ('loss', 8.685805384148551e-05),\n",
       " ('march', 8.685252308713101e-05),\n",
       " ('global', 8.66329648321583e-05),\n",
       " ('date', 8.606324921543035e-05),\n",
       " ('idea', 8.604960164734082e-05),\n",
       " ('early', 8.582647558174825e-05),\n",
       " ('damn', 8.582425699948763e-05),\n",
       " ('bring', 8.553857533467185e-05),\n",
       " ('eyes', 8.553824237381505e-05),\n",
       " ('safe', 8.523819079651017e-05),\n",
       " ('light', 8.475178297645547e-05),\n",
       " ('female', 8.465152913332292e-05),\n",
       " ('return', 8.454503981906655e-05),\n",
       " ('interest', 8.429984832114198e-05),\n",
       " ('making', 8.404515777094002e-05),\n",
       " ('sent', 8.373263364966355e-05),\n",
       " ('believe', 8.334768031262318e-05),\n",
       " ('eight', 8.299363920097336e-05),\n",
       " ('even', 8.29843089445309e-05),\n",
       " ('systems', 8.259797908870443e-05),\n",
       " ('okay', 8.200607846730636e-05),\n",
       " ('face', 8.167384507131586e-05),\n",
       " ('final', 8.153652149356372e-05),\n",
       " ('century', 8.143001173583188e-05),\n",
       " ('form', 8.109251801566297e-05),\n",
       " ('thinking', 8.103403194636462e-05),\n",
       " ('needs', 8.071489578441275e-05),\n",
       " ('called', 8.060521391126119e-05),\n",
       " ('heard', 8.054989474274958e-05),\n",
       " ('earth', 8.001301913221348e-05),\n",
       " ('shall', 7.989002541512052e-05),\n",
       " ('young', 7.913293231345819e-05),\n",
       " ('allowed', 7.885493211978864e-05),\n",
       " ('case', 7.879601361974499e-05),\n",
       " ('india', 7.869155719143414e-05),\n",
       " ('bill', 7.851289184616222e-05),\n",
       " ('pass', 7.820602002597474e-05),\n",
       " ('website', 7.769061851849255e-05),\n",
       " ('fear', 7.758304137921602e-05),\n",
       " ('june', 7.71822697929591e-05),\n",
       " ('review', 7.716191640373508e-05),\n",
       " ('happened', 7.691818072968516e-05),\n",
       " ('move', 7.641325328766949e-05),\n",
       " ('david', 7.6011185137205e-05),\n",
       " ('question', 7.528612644823289e-05),\n",
       " ('given', 7.517219864325905e-05),\n",
       " ('paris', 7.485711816434051e-05),\n",
       " ('perhaps', 7.444399568372947e-05),\n",
       " ('goal', 7.430917987406686e-05),\n",
       " ('future', 7.418723842918251e-05),\n",
       " ('born', 7.39282026045035e-05),\n",
       " ('months', 7.38670693762062e-05),\n",
       " ('evidence', 7.357075056257456e-05),\n",
       " ('trade', 7.318824417554617e-05),\n",
       " ('month', 7.315898814470867e-05),\n",
       " ('statement', 7.313084118129544e-05),\n",
       " ('white', 7.294140918971681e-05),\n",
       " ('wanted', 7.240818100720872e-05),\n",
       " ('needed', 7.240326649741655e-05),\n",
       " ('miles', 7.236780870417854e-05),\n",
       " ('hold', 7.213574940750228e-05),\n",
       " ('everyone', 7.178911746996003e-05),\n",
       " ('york', 7.177941329714922e-05),\n",
       " ('told', 7.125626878465123e-05),\n",
       " ('understand', 7.123803690008493e-05),\n",
       " ('feeling', 7.111785916102259e-05),\n",
       " ('played', 7.110361971601753e-05),\n",
       " ('boys', 7.075180445819534e-05),\n",
       " ('death', 7.039140666593134e-05),\n",
       " ('present', 7.004515191481528e-05),\n",
       " ('double', 6.991212735626973e-05),\n",
       " ('living', 6.988475437956325e-05),\n",
       " ('power', 6.972398632124066e-05),\n",
       " ('money', 6.969395076325893e-05),\n",
       " ('self', 6.969005740337098e-05),\n",
       " ('army', 6.944013124604576e-05),\n",
       " ('group', 6.908818175496712e-05),\n",
       " ('college', 6.90593428048867e-05),\n",
       " ('plans', 6.879722662556185e-05),\n",
       " ('families', 6.876511628952156e-05),\n",
       " ('points', 6.875609661947685e-05),\n",
       " ('positive', 6.851111077587745e-05),\n",
       " ('picture', 6.851088746063008e-05),\n",
       " ('enjoy', 6.850018365070487e-05),\n",
       " ('schools', 6.84173873811084e-05),\n",
       " ('else', 6.828462560776877e-05),\n",
       " ('pain', 6.817641325010393e-05),\n",
       " ('meeting', 6.811750378803508e-05),\n",
       " ('england', 6.798893171400169e-05),\n",
       " ('space', 6.787985045898087e-05),\n",
       " ('deep', 6.786191515343286e-05),\n",
       " ('brother', 6.777067467733829e-05),\n",
       " ('wanna', 6.768655836662633e-05),\n",
       " ('gives', 6.766864010491255e-05),\n",
       " ('role', 6.753340286476135e-05),\n",
       " ('completely', 6.744562102298061e-05),\n",
       " ('moved', 6.726326064694123e-05),\n",
       " ('ago', 6.711619241941968e-05),\n",
       " ('computer', 6.698807598222488e-05),\n",
       " ('dark', 6.685797116373106e-05),\n",
       " ('tax', 6.680726116194309e-05),\n",
       " ('total', 6.678924810829719e-05),\n",
       " ('looking', 6.67437040687141e-05),\n",
       " ('code', 6.603358277132432e-05),\n",
       " ('feet', 6.579057708770361e-05),\n",
       " ('page', 6.573122749835465e-05),\n",
       " ('means', 6.572338509257779e-05),\n",
       " ('radio', 6.564977280031949e-05),\n",
       " ('meet', 6.521491981969357e-05),\n",
       " ('gold', 6.432678985142729e-05),\n",
       " ('event', 6.43246684218432e-05),\n",
       " ('character', 6.429217595683035e-05),\n",
       " ('africa', 6.427459020164668e-05),\n",
       " ('series', 6.39648707822394e-05),\n",
       " ('economic', 6.378691900155338e-05),\n",
       " ('truth', 6.376638203841028e-05),\n",
       " ('issues', 6.370686517742988e-05),\n",
       " ('turned', 6.339207240952782e-05),\n",
       " ('million', 6.322559958368314e-05),\n",
       " ('especially', 6.320975390852312e-05),\n",
       " ('crazy', 6.287362842856241e-05),\n",
       " ('average', 6.263440185582791e-05),\n",
       " ('weeks', 6.263427167885888e-05),\n",
       " ('shot', 6.242864778454454e-05),\n",
       " ('justice', 6.210836983649992e-05),\n",
       " ('base', 6.194190776454521e-05),\n",
       " ('expect', 6.194013979882694e-05),\n",
       " ('wants', 6.182027744186525e-05),\n",
       " ('international', 6.178905191335342e-05),\n",
       " ('material', 6.172316979170941e-05),\n",
       " ('education', 6.166580673818561e-05),\n",
       " ('others', 6.145992386477617e-05),\n",
       " ('related', 6.135466906057258e-05),\n",
       " ('change', 6.11804493166751e-05),\n",
       " ('island', 6.085152497423488e-05),\n",
       " ('seven', 6.0423546066653254e-05),\n",
       " ('similar', 6.0363995002824834e-05),\n",
       " ('seeing', 6.033984519714791e-05),\n",
       " ('gone', 6.03265759376425e-05),\n",
       " ('within', 5.980939679917606e-05),\n",
       " ('professional', 5.959318824856619e-05),\n",
       " ('towards', 5.954834460829544e-05),\n",
       " ('type', 5.940039438373165e-05),\n",
       " ('drop', 5.927867219008599e-05),\n",
       " ('text', 5.920211241585739e-05),\n",
       " ('subject', 5.900964013374555e-05),\n",
       " ('daughter', 5.897884835647741e-05),\n",
       " ('exactly', 5.87880154173364e-05),\n",
       " ('pretty', 5.8484330307095184e-05),\n",
       " ('around', 5.8312249332202054e-05),\n",
       " ('chinese', 5.823297649312255e-05),\n",
       " ('holy', 5.812187455665925e-05),\n",
       " ('kept', 5.758956214511326e-05),\n",
       " ('phone', 5.7200666785345994e-05),\n",
       " ('friend', 5.7181345704135356e-05),\n",
       " ('hours', 5.708813430893578e-05),\n",
       " ('operation', 5.648619316308808e-05),\n",
       " ('without', 5.6422636398888865e-05),\n",
       " ('london', 5.607597687142408e-05),\n",
       " ('unless', 5.6006445565331964e-05),\n",
       " ('shows', 5.598639226865598e-05),\n",
       " ('version', 5.5966491673019314e-05),\n",
       " ('recently', 5.5924788993150926e-05),\n",
       " ('british', 5.573782890224907e-05),\n",
       " ('military', 5.553644952082011e-05),\n",
       " ('search', 5.5199594523413706e-05),\n",
       " ('study', 5.4948145994774406e-05),\n",
       " ('energy', 5.4896135774843216e-05),\n",
       " ('together', 5.481324679479198e-05),\n",
       " ('peace', 5.462235956327308e-05),\n",
       " ('according', 5.4450739467594086e-05),\n",
       " ('united', 5.4252434778858175e-05),\n",
       " ('recent', 5.411385403626418e-05),\n",
       " ('five', 5.4044068495573416e-05),\n",
       " ('huge', 5.401107221362361e-05),\n",
       " ('possible', 5.367136417482824e-05),\n",
       " ('results', 5.363066081070372e-05),\n",
       " ('using', 5.3349517388438794e-05),\n",
       " ('looked', 5.3261115604475405e-05),\n",
       " ('instead', 5.322084990141453e-05),\n",
       " ('visit', 5.296685048663402e-05),\n",
       " ('release', 5.296410100857386e-05),\n",
       " ('usually', 5.287841828602747e-05),\n",
       " ('state', 5.2511654581519074e-05),\n",
       " ('parents', 5.2480803720859545e-05),\n",
       " ('says', 5.2434446884932345e-05),\n",
       " ('built', 5.243122509806901e-05),\n",
       " ('figure', 5.237502990337265e-05),\n",
       " ('reading', 5.23172850004118e-05),\n",
       " ('father', 5.2253068746725695e-05),\n",
       " ('working', 5.206949817956538e-05),\n",
       " ('industry', 5.2063303040380746e-05),\n",
       " ('share', 5.1979081741627964e-05),\n",
       " ('services', 5.190638671054553e-05),\n",
       " ('legal', 5.170522936599319e-05),\n",
       " ('certain', 5.1699392744019267e-05),\n",
       " ('quality', 5.1615600089757047e-05),\n",
       " ('events', 5.142323991089333e-05),\n",
       " ('independent', 5.13482110168122e-05),\n",
       " ('either', 5.13462536474215e-05),\n",
       " ('based', 5.1284492699988846e-05),\n",
       " ('former', 5.120965564855279e-05),\n",
       " ('development', 5.1202957305307266e-05),\n",
       " ('information', 5.094811521250478e-05),\n",
       " ('short', 5.0715610154659224e-05),\n",
       " ('charge', 5.033877163397333e-05),\n",
       " ('beyond', 5.0300276834234006e-05),\n",
       " ('section', 5.024780817267701e-05),\n",
       " ('waiting', 5.0142281882908923e-05),\n",
       " ('goals', 5.0104539044326137e-05),\n",
       " ('small', 5.007711850033708e-05),\n",
       " ('longer', 5.0024400129025474e-05),\n",
       " ('easy', 5.000665466046647e-05),\n",
       " ('strong', 4.998007428763662e-05),\n",
       " ('modern', 4.988952060115161e-05),\n",
       " ('buy', 4.9796861981681734e-05),\n",
       " ('however', 4.960778897172228e-05),\n",
       " ('press', 4.954012997016727e-05),\n",
       " ('forward', 4.946516029352005e-05),\n",
       " ('paul', 4.946248911656681e-05),\n",
       " ('required', 4.928455481897345e-05),\n",
       " ('effect', 4.922934576957229e-05),\n",
       " ('except', 4.9156806446366136e-05),\n",
       " ('cannot', 4.9108975248533804e-05),\n",
       " ('immediately', 4.890388683726366e-05),\n",
       " ('union', 4.882291964754086e-05),\n",
       " ('major', 4.878456209757038e-05),\n",
       " ('german', 4.863051704224585e-05),\n",
       " ('create', 4.861172422574063e-05),\n",
       " ('account', 4.854552209545074e-05),\n",
       " ('companies', 4.8509505881801475e-05),\n",
       " ('political', 4.841345975940131e-05),\n",
       " ('original', 4.813264902336564e-05),\n",
       " ('across', 4.802338917982499e-05),\n",
       " ('property', 4.7905644101378566e-05),\n",
       " ('currently', 4.785758335457482e-05),\n",
       " ('report', 4.779197487083352e-05),\n",
       " ('single', 4.767941725970955e-05),\n",
       " ('cost', 4.767105387720391e-05),\n",
       " ('different', 4.763022952665105e-05),\n",
       " ('decided', 4.743337814627942e-05),\n",
       " ('system', 4.6890271887308627e-05),\n",
       " ('card', 4.6809051824182185e-05),\n",
       " ('financial', 4.656385883155742e-05),\n",
       " ('wrote', 4.655009036611283e-05),\n",
       " ('place', 4.653609905814343e-05),\n",
       " ('second', 4.64925903915156e-05),\n",
       " ('department', 4.6310169293719596e-05),\n",
       " ('missing', 4.627713451163876e-05),\n",
       " ('mother', 4.617921889439949e-05),\n",
       " ('clear', 4.598423761910386e-05),\n",
       " ('write', 4.5949173198554447e-05),\n",
       " ('medical', 4.578711963245611e-05),\n",
       " ('company', 4.5576088807628215e-05),\n",
       " ('couple', 4.549609891810712e-05),\n",
       " ('ahead', 4.5476347533072656e-05),\n",
       " ('level', 4.5386400943401434e-05),\n",
       " ('decision', 4.537308738144022e-05),\n",
       " ('force', 4.5268049499605154e-05),\n",
       " ('certainly', 4.5192465121372295e-05),\n",
       " ('washington', 4.507713776121924e-05),\n",
       " ('consider', 4.498181333835536e-05),\n",
       " ('service', 4.4931444071201476e-05),\n",
       " ('continue', 4.47734930571729e-05),\n",
       " ('success', 4.4521293882434504e-05),\n",
       " ('anyone', 4.445698714269919e-05),\n",
       " ('nature', 4.413414209341292e-05),\n",
       " ('established', 4.406757293486108e-05),\n",
       " ('police', 4.406274011638234e-05),\n",
       " ('various', 4.403400837508229e-05),\n",
       " ('february', 4.4002595617275136e-05),\n",
       " ('officer', 4.3764773441305315e-05),\n",
       " ('letter', 4.354978403916295e-05),\n",
       " ('written', 4.339098291038495e-05),\n",
       " ('later', 4.3302526483155954e-05),\n",
       " ('friends', 4.324376181159828e-05),\n",
       " ('canadian', 4.3203533315556986e-05),\n",
       " ('matter', 4.3161784670897596e-05),\n",
       " ('terms', 4.30176155001218e-05),\n",
       " ('several', 4.2978924077241966e-05),\n",
       " ('clearly', 4.274400073037837e-05),\n",
       " ('difficult', 4.271330186783433e-05),\n",
       " ('door', 4.236295153541361e-05),\n",
       " ('voice', 4.229853562790452e-05),\n",
       " ('performance', 4.226447758219794e-05),\n",
       " ('personal', 4.22466437640847e-05),\n",
       " ('upon', 4.2244864280215413e-05),\n",
       " ('internet', 4.223333676100019e-05),\n",
       " ('cold', 4.1988793647175504e-05),\n",
       " ('killed', 4.164062555772185e-05),\n",
       " ('culture', 4.158312833714255e-05),\n",
       " ('goes', 4.150253807481616e-05),\n",
       " ('talk', 4.149830619406408e-05),\n",
       " ('changed', 4.099852754871781e-05),\n",
       " ('along', 4.095960601431872e-05),\n",
       " ('paid', 4.0915669993938676e-05),\n",
       " ('questions', 4.0736178996272215e-05),\n",
       " ('whose', 4.053084849798888e-05),\n",
       " ('reasons', 4.047107757320636e-05),\n",
       " ('products', 4.04637936109657e-05),\n",
       " ('january', 4.044452379940028e-05),\n",
       " ('designed', 4.039028052088209e-05),\n",
       " ('choice', 4.037787610842308e-05),\n",
       " ('groups', 4.027116190217974e-05),\n",
       " ('whether', 4.0153395364796694e-05),\n",
       " ('throughout', 4.0151163815926524e-05),\n",
       " ('leaving', 3.9993860206830566e-05),\n",
       " ('conditions', 3.9822367540244454e-05),\n",
       " ('increase', 3.9777570336126805e-05),\n",
       " ('trust', 3.9747890345821074e-05),\n",
       " ('workers', 3.972037551493168e-05),\n",
       " ('direct', 3.9634317180469586e-05),\n",
       " ('finally', 3.946099483818563e-05),\n",
       " ('states', 3.937999849058186e-05),\n",
       " ('simply', 3.93399506918345e-05),\n",
       " ('april', 3.9280146688965706e-05),\n",
       " ('leave', 3.9233962677430456e-05),\n",
       " ('found', 3.90138253278452e-05),\n",
       " ('weight', 3.89881242601562e-05),\n",
       " ('started', 3.891348135358352e-05),\n",
       " ('european', 3.889262059382026e-05),\n",
       " ('network', 3.8864848855686696e-05),\n",
       " ('example', 3.8854287115432616e-05),\n",
       " ('council', 3.880003395006007e-05),\n",
       " ('numbers', 3.8775292025162306e-05),\n",
       " ('leading', 3.837848252612273e-05),\n",
       " ('began', 3.8344588555671915e-05),\n",
       " ('included', 3.8331102172466406e-05),\n",
       " ('necessary', 3.8233216574588055e-05),\n",
       " ('fight', 3.823101520769416e-05),\n",
       " ('note', 3.811591279475647e-05),\n",
       " ('daily', 3.8094892015737986e-05),\n",
       " ('normal', 3.790252952925316e-05),\n",
       " ('paper', 3.784376873335743e-05),\n",
       " ('books', 3.778197648840291e-05),\n",
       " ('released', 3.776170278591137e-05),\n",
       " ('civil', 3.767962900818765e-05),\n",
       " ('november', 3.7267211657852385e-05),\n",
       " ('important', 3.723378824796279e-05),\n",
       " ('created', 3.7127175532639285e-05),\n",
       " ('although', 3.706297940952704e-05),\n",
       " ('took', 3.698730949619998e-05),\n",
       " ('talking', 3.696765295999743e-05),\n",
       " ('staff', 3.690996926372127e-05),\n",
       " ('canada', 3.689705387057915e-05),\n",
       " ('focus', 3.6761774257622164e-05),\n",
       " ('involved', 3.673083068653389e-05),\n",
       " ('front', 3.656402138032047e-05),\n",
       " ('french', 3.6532348667532924e-05),\n",
       " ('expected', 3.6308285568282216e-05),\n",
       " ('response', 3.606705378310631e-05),\n",
       " ('percent', 3.583213849025547e-05),\n",
       " ('individual', 3.57930412851668e-05),\n",
       " ('area', 3.565773889238014e-05),\n",
       " ('experience', 3.550488913839876e-05),\n",
       " ('hands', 3.536247242567209e-05),\n",
       " ('spent', 3.532243157313049e-05),\n",
       " ('main', 3.5277054160318816e-05),\n",
       " ('minutes', 3.5226285766878224e-05),\n",
       " ('physical', 3.5158455284132854e-05),\n",
       " ('comes', 3.5078243466088455e-05),\n",
       " ('chief', 3.50192645593491e-05),\n",
       " ('moving', 3.497093009938168e-05),\n",
       " ('difference', 3.490698593550112e-05),\n",
       " ('test', 3.469770413133677e-05),\n",
       " ('published', 3.45028122333954e-05),\n",
       " ('therefore', 3.450002954886913e-05),\n",
       " ('beginning', 3.447853853741703e-05),\n",
       " ('greater', 3.447248182906603e-05),\n",
       " ('quite', 3.443857704638412e-05),\n",
       " ('europe', 3.434458040586959e-05),\n",
       " ('president', 3.4225159709804116e-05),\n",
       " ('changes', 3.3710412485192e-05),\n",
       " ('practice', 3.370363168531641e-05),\n",
       " ('majority', 3.366447035451888e-05),\n",
       " ('save', 3.361063180876839e-05),\n",
       " ('october', 3.352700822989701e-05),\n",
       " ('access', 3.3524095644749986e-05),\n",
       " ('particularly', 3.348594353332589e-05),\n",
       " ('sort', 3.3318618709943584e-05),\n",
       " ('starting', 3.3256724846905325e-05),\n",
       " ('addition', 3.303025733361869e-05),\n",
       " ('six', 3.287140754485926e-05),\n",
       " ('society', 3.28080060094894e-05),\n",
       " ('countries', 3.272375534961068e-05),\n",
       " ('september', 3.262004882524129e-05),\n",
       " ('committee', 3.23969800872985e-05),\n",
       " ('pressure', 3.239261078806857e-05),\n",
       " ('problems', 3.238553860592831e-05),\n",
       " ('knowledge', 3.231862663748749e-05),\n",
       " ('behind', 3.2138156530218606e-05),\n",
       " ('brought', 3.2120229400136105e-05),\n",
       " ('felt', 3.1968866371813974e-05),\n",
       " ('rules', 3.1893663563369035e-05),\n",
       " ('straight', 3.177570537404688e-05),\n",
       " ('process', 3.171815821405733e-05),\n",
       " ('population', 3.1667014042461184e-05),\n",
       " ('speak', 3.141824910007224e-05),\n",
       " ('rather', 3.129778000197751e-05),\n",
       " ('levels', 3.122055113913844e-05),\n",
       " ('likely', 3.0710744064933564e-05),\n",
       " ('risk', 3.048171306316988e-05),\n",
       " ('july', 3.0046255344347815e-05),\n",
       " ('offer', 3.0024787437511052e-05),\n",
       " ('analysis', 3.0012553336254905e-05),\n",
       " ('relationship', 2.9791390017801407e-05),\n",
       " ('giving', 2.957679465091269e-05),\n",
       " ('generally', 2.9531754890863753e-05),\n",
       " ('earlier', 2.9505188701531813e-05),\n",
       " ('held', 2.9248135750068252e-05),\n",
       " ('lord', 2.9032176639942273e-05),\n",
       " ('large', 2.8921559576389026e-05),\n",
       " ('period', 2.879808376522481e-05),\n",
       " ('reported', 2.8749395279569065e-05),\n",
       " ('limited', 2.87254968872816e-05),\n",
       " ('attention', 2.8612623823247307e-05),\n",
       " ('places', 2.7961768463776078e-05),\n",
       " ('stay', 2.7796344147665297e-05),\n",
       " ('went', 2.7710428503125578e-05),\n",
       " ('center', 2.7707609495337526e-05),\n",
       " ('mom', 2.7531538029056113e-05),\n",
       " ('sister', 2.7496249497178243e-05),\n",
       " ('sometimes', 2.716518995757311e-05),\n",
       " ('position', 2.701697714203779e-05),\n",
       " ('movement', 2.683991349004041e-05),\n",
       " ('contact', 2.6749315976979347e-05),\n",
       " ('nearly', 2.6462132971480715e-05),\n",
       " ('federal', 2.6422266546953684e-05),\n",
       " ('english', 2.626089774257316e-05),\n",
       " ('lines', 2.598666943773309e-05),\n",
       " ('areas', 2.5775216738197285e-05),\n",
       " ('include', 2.5664540906031666e-05),\n",
       " ('taken', 2.5655297026059426e-05),\n",
       " ('potential', 2.556196763374213e-05),\n",
       " ('production', 2.5516995585400312e-05),\n",
       " ('became', 2.546908846880625e-05),\n",
       " ('particular', 2.530125485600363e-05),\n",
       " ('action', 2.5211704136607338e-05),\n",
       " ('added', 2.494585765217298e-05),\n",
       " ('program', 2.4864390856011928e-05),\n",
       " ('december', 2.482965182166747e-05),\n",
       " ('parts', 2.474228730790437e-05),\n",
       " ('reports', 2.4597781611706247e-05),\n",
       " ('considered', 2.451562085716767e-05),\n",
       " ('situation', 2.4449075639774564e-05),\n",
       " ('cases', 2.4297499615227175e-05),\n",
       " ('provide', 2.414802533610462e-05),\n",
       " ('message', 2.408081554686626e-05),\n",
       " ('taking', 2.3930082006240472e-05),\n",
       " ('forces', 2.3919050479528177e-05),\n",
       " ('studies', 2.3814915917113027e-05),\n",
       " ('moment', 2.3529046537407172e-05),\n",
       " ('policy', 2.352382886870296e-05),\n",
       " ('continued', 2.344002358046094e-05),\n",
       " ('value', 2.3086723631181305e-05),\n",
       " ('effects', 2.294023309309056e-05),\n",
       " ('worked', 2.2684771017514836e-05),\n",
       " ('popular', 2.2663473077590146e-05),\n",
       " ('third', 2.2623257157144798e-05),\n",
       " ('simple', 2.2446161315636814e-05),\n",
       " ('asked', 2.224063564091553e-05),\n",
       " ('known', 2.2180064107151128e-05),\n",
       " ('language', 2.199515257328248e-05),\n",
       " ('treatment', 2.18324060697289e-05),\n",
       " ('standard', 2.1648894782367104e-05),\n",
       " ('gave', 2.164406672859956e-05),\n",
       " ('cross', 2.151745098130653e-05),\n",
       " ('myself', 2.1484340310955197e-05),\n",
       " ('including', 2.141934721300049e-05),\n",
       " ('region', 2.1143348977307498e-05),\n",
       " ('growth', 2.055416405711153e-05),\n",
       " ('previous', 2.039957557692547e-05),\n",
       " ('alone', 2.0184752551591703e-05),\n",
       " ('association', 2.0064119488123148e-05),\n",
       " ('described', 1.9845503260715e-05),\n",
       " ('security', 1.9749248878518817e-05),\n",
       " ('amount', 1.9717486275999327e-05),\n",
       " ('income', 1.8898802058404983e-05),\n",
       " ('despite', 1.877566593891074e-05),\n",
       " ('developed', 1.8753210940552936e-05),\n",
       " ('outside', 1.8657876315201008e-05),\n",
       " ('often', 1.8441513087273306e-05),\n",
       " ('thus', 1.8176893225924605e-05),\n",
       " ('ability', 1.7606337991735166e-05),\n",
       " ('increased', 1.7532208710612385e-05),\n",
       " ('organization', 1.742393337716649e-05),\n",
       " ('significant', 1.6878215404845338e-05),\n",
       " ('among', 1.6782497263374482e-05),\n",
       " ('current', 1.6712363516585213e-05),\n",
       " ('provided', 1.6535609771604334e-05),\n",
       " ('stage', 1.636138797289459e-05),\n",
       " ('match', 1.5729741969647965e-05),\n",
       " ('received', 1.5114698689186468e-05),\n",
       " ('rule', 1.3856395862939241e-05),\n",
       " ('higher', 1.2455259718624836e-05),\n",
       " ('approach', 1.2429513925393994e-05),\n",
       " ('lead', 1.1558623921478772e-05),\n",
       " ('specific', 1.1536504269043981e-05),\n",
       " ('foreign', 8.601182947569862e-06)]"
      ]
     },
     "execution_count": 43,
     "metadata": {},
     "output_type": "execute_result"
    }
   ],
   "source": [
    "Counter(infogain).most_common()"
   ]
  },
  {
   "cell_type": "code",
   "execution_count": null,
   "metadata": {},
   "outputs": [],
   "source": []
  },
  {
   "cell_type": "code",
   "execution_count": null,
   "metadata": {},
   "outputs": [],
   "source": []
  },
  {
   "cell_type": "code",
   "execution_count": null,
   "metadata": {},
   "outputs": [],
   "source": []
  },
  {
   "cell_type": "code",
   "execution_count": 29,
   "metadata": {},
   "outputs": [
    {
     "name": "stderr",
     "output_type": "stream",
     "text": [
      "                                                           \r"
     ]
    },
    {
     "data": {
      "text/plain": [
       "<BarContainer object of 13 artists>"
      ]
     },
     "execution_count": 29,
     "metadata": {},
     "output_type": "execute_result"
    },
    {
     "data": {
      "image/png": "[encoded data removed]",
      "text/plain": [
       "<Figure size 432x288 with 1 Axes>"
      ]
     },
     "metadata": {
      "needs_background": "light"
     },
     "output_type": "display_data"
    }
   ],
   "source": [
    "from matplotlib import pyplot\n",
    "pyplot.bar(getHousingPrice2014().keys(), getFreq2014(\"bar\").values())"
   ]
  },
  {
   "cell_type": "code",
   "execution_count": 41,
   "metadata": {},
   "outputs": [
    {
     "name": "stderr",
     "output_type": "stream",
     "text": [
      "                                                          \r"
     ]
    },
    {
     "data": {
      "text/plain": [
       "<BarContainer object of 13 artists>"
      ]
     },
     "execution_count": 41,
     "metadata": {},
     "output_type": "execute_result"
    },
    {
     "data": {
      "image/png": "[encoded data removed]",
      "text/plain": [
       "<Figure size 432x288 with 1 Axes>"
      ]
     },
     "metadata": {
      "needs_background": "light"
     },
     "output_type": "display_data"
    }
   ],
   "source": [
    "pyplot.bar(getHousingPrice2014().keys(), getFreq2014(\"met\").values())"
   ]
  },
  {
   "cell_type": "code",
   "execution_count": 155,
   "metadata": {},
   "outputs": [
    {
     "name": "stderr",
     "output_type": "stream",
     "text": [
      "                                                          \r"
     ]
    },
    {
     "data": {
      "text/plain": [
       "<BarContainer object of 13 artists>"
      ]
     },
     "execution_count": 155,
     "metadata": {},
     "output_type": "execute_result"
    },
    {
     "data": {
      "image/png": "[encoded data removed]",
      "text/plain": [
       "<Figure size 432x288 with 1 Axes>"
      ]
     },
     "metadata": {
      "needs_background": "light"
     },
     "output_type": "display_data"
    }
   ],
   "source": [
    "pyplot.bar(getHousingPrice2014().keys(), getFreq2014(\"michael\").values())"
   ]
  },
  {
   "cell_type": "code",
   "execution_count": 174,
   "metadata": {},
   "outputs": [
    {
     "name": "stderr",
     "output_type": "stream",
     "text": [
      "                                                           \r"
     ]
    },
    {
     "data": {
      "text/plain": [
       "<BarContainer object of 13 artists>"
      ]
     },
     "execution_count": 174,
     "metadata": {},
     "output_type": "execute_result"
    },
    {
     "data": {
      "image/png": "[encoded data removed]",
      "text/plain": [
       "<Figure size 432x288 with 1 Axes>"
      ]
     },
     "metadata": {
      "needs_background": "light"
     },
     "output_type": "display_data"
    }
   ],
   "source": [
    "pyplot.bar(getHousingPrice2020().keys(), getFreq2014(\"university\").values())"
   ]
  },
  {
   "cell_type": "code",
   "execution_count": 177,
   "metadata": {},
   "outputs": [],
   "source": [
    "gr2014 = [('bar', 0.01969221684328206),\n",
    " ('met', 0.019618557081469774),\n",
    " ('win', 0.015021393287042066),\n",
    " ('per', 0.01443016752898855),\n",
    " ('day', 0.010032416169007491),\n",
    " ('fall', 0.010006165872880569),\n",
    " ('beach', 0.006367575539583402),\n",
    " ('right', 0.0030807935933542916),\n",
    " ('rich', 0.0020007818314649517),\n",
    " ('field', 0.0011942755602837264),\n",
    " ('town', 0.0010464288053066563),\n",
    " ('job', 0.001041107819219211),\n",
    " ('north', 0.0009986857529145309),\n",
    " ('one', 0.0008798620072675807),\n",
    " ('park', 0.0008368664918803476),\n",
    " ('south', 0.0007848103784830431),\n",
    " ('follow', 0.0007646997119245268),\n",
    " ('east', 0.000740299861410172),\n",
    " ('line', 0.0007064104776491131),\n",
    " ('street', 0.0006378383642556766),\n",
    " ('time', 0.0006312949269488457),\n",
    " ('non', 0.0005700024275750139),\n",
    " ('australia', 0.0005546282745067754),\n",
    " ('west', 0.0005290597809288648),\n",
    " ('bank', 0.000489342811584512),\n",
    " ('box', 0.0004772713413177153),\n",
    " ('hotel', 0.0004765865190819301),\n",
    " ('hey', 0.0004676839719982431), \n",
    " ('send', 0.0004613593508666281),\n",
    " ('well', 0.00045653525129150794),\n",
    " ('race', 0.0004500604676509471)] #30\n",
    " \n",
    "\n",
    "gr2020 = [('michael', 0.026283957082107123),\n",
    " ('western', 0.007721619535209237),\n",
    " ('dog', 0.007553402627090276),\n",
    " ('west', 0.007351966155076098),\n",
    " ('might', 0.004635876414366083),\n",
    " ('wife', 0.003825152228587756),\n",
    " ('hours', 0.0033357212621740644),\n",
    " ('school', 0.0031304396845475736),\n",
    " ('weeks', 0.0030248193880604434),\n",
    " ('like', 0.0028744091860470502),\n",
    " ('hour', 0.0028393672771163405),\n",
    " ('hospital', 0.002689315577859752),\n",
    " ('face', 0.0026856121651326814),\n",
    " ('ask', 0.002609361801553402),\n",
    " ('thing', 0.002606091531379975),\n",
    " ('two', 0.0024818874787135986),\n",
    " ('young', 0.002366047377870643),\n",
    " ('think', 0.002276896802341305),\n",
    " ('earth', 0.0022284464069659915),\n",
    " ('workers', 0.0021994476689465177),\n",
    " ('people', 0.0021790857057509224),\n",
    " ('job', 0.002154226039483185),\n",
    " ('allow', 0.002127596983711246),\n",
    " ('australia', 0.002034505424862161),\n",
    " ('design', 0.0017937664686581319),\n",
    " ('completely', 0.0016290258816124663),\n",
    " ('students', 0.0016240041098769574),\n",
    " ('north', 0.0016226133835445303),\n",
    " ('eat', 0.0015303374225198658),\n",
    " ('win', 0.0014829533515523844),\n",
    " ('work', 0.0014560613601797084)]\n",
    " "
   ]
  },
  {
   "cell_type": "code",
   "execution_count": 179,
   "metadata": {},
   "outputs": [
    {
     "data": {
      "text/plain": [
       "31"
      ]
     },
     "execution_count": 179,
     "metadata": {},
     "output_type": "execute_result"
    }
   ],
   "source": [
    "len(gr2014)"
   ]
  },
  {
   "cell_type": "code",
   "execution_count": 182,
   "metadata": {},
   "outputs": [],
   "source": [
    "f = open(\"gain_ratio.json\",\"w\")\n",
    "\n",
    "out = {\"2014\": gr2014, \"2020\": gr2020}\n",
    "\n",
    "json.dump(out,f)\n",
    "\n",
    "f.close()\n"
   ]
  },
  {
   "cell_type": "code",
   "execution_count": 183,
   "metadata": {},
   "outputs": [],
   "source": [
    "f = open(\"gain_ratio.json\",\"r\")\n",
    "a = json.load(f)\n"
   ]
  },
  {
   "cell_type": "code",
   "execution_count": 184,
   "metadata": {},
   "outputs": [
    {
     "data": {
      "text/plain": [
       "{'2014': [['bar', 0.01969221684328206],\n",
       "  ['met', 0.019618557081469774],\n",
       "  ['win', 0.015021393287042066],\n",
       "  ['per', 0.01443016752898855],\n",
       "  ['day', 0.010032416169007491],\n",
       "  ['fall', 0.010006165872880569],\n",
       "  ['beach', 0.006367575539583402],\n",
       "  ['right', 0.0030807935933542916],\n",
       "  ['rich', 0.0020007818314649517],\n",
       "  ['field', 0.0011942755602837264],\n",
       "  ['town', 0.0010464288053066563],\n",
       "  ['job', 0.001041107819219211],\n",
       "  ['north', 0.0009986857529145309],\n",
       "  ['one', 0.0008798620072675807],\n",
       "  ['park', 0.0008368664918803476],\n",
       "  ['south', 0.0007848103784830431],\n",
       "  ['follow', 0.0007646997119245268],\n",
       "  ['east', 0.000740299861410172],\n",
       "  ['line', 0.0007064104776491131],\n",
       "  ['street', 0.0006378383642556766],\n",
       "  ['time', 0.0006312949269488457],\n",
       "  ['non', 0.0005700024275750139],\n",
       "  ['australia', 0.0005546282745067754],\n",
       "  ['west', 0.0005290597809288648],\n",
       "  ['bank', 0.000489342811584512],\n",
       "  ['box', 0.0004772713413177153],\n",
       "  ['hotel', 0.0004765865190819301],\n",
       "  ['hey', 0.0004676839719982431],\n",
       "  ['send', 0.0004613593508666281],\n",
       "  ['well', 0.00045653525129150794],\n",
       "  ['race', 0.0004500604676509471]],\n",
       " '2020': [['michael', 0.026283957082107123],\n",
       "  ['western', 0.007721619535209237],\n",
       "  ['dog', 0.007553402627090276],\n",
       "  ['west', 0.007351966155076098],\n",
       "  ['might', 0.004635876414366083],\n",
       "  ['wife', 0.003825152228587756],\n",
       "  ['hours', 0.0033357212621740644],\n",
       "  ['school', 0.0031304396845475736],\n",
       "  ['weeks', 0.0030248193880604434],\n",
       "  ['like', 0.0028744091860470502],\n",
       "  ['hour', 0.0028393672771163405],\n",
       "  ['hospital', 0.002689315577859752],\n",
       "  ['face', 0.0026856121651326814],\n",
       "  ['ask', 0.002609361801553402],\n",
       "  ['thing', 0.002606091531379975],\n",
       "  ['two', 0.0024818874787135986],\n",
       "  ['young', 0.002366047377870643],\n",
       "  ['think', 0.002276896802341305],\n",
       "  ['earth', 0.0022284464069659915],\n",
       "  ['workers', 0.0021994476689465177],\n",
       "  ['people', 0.0021790857057509224],\n",
       "  ['job', 0.002154226039483185],\n",
       "  ['allow', 0.002127596983711246],\n",
       "  ['australia', 0.002034505424862161],\n",
       "  ['design', 0.0017937664686581319],\n",
       "  ['completely', 0.0016290258816124663],\n",
       "  ['students', 0.0016240041098769574],\n",
       "  ['north', 0.0016226133835445303],\n",
       "  ['eat', 0.0015303374225198658],\n",
       "  ['win', 0.0014829533515523844],\n",
       "  ['work', 0.0014560613601797084]]}"
      ]
     },
     "execution_count": 184,
     "metadata": {},
     "output_type": "execute_result"
    }
   ],
   "source": []
  },
  {
   "cell_type": "code",
   "execution_count": null,
   "metadata": {},
   "outputs": [],
   "source": []
  }
 ],
 "metadata": {
  "kernelspec": {
   "display_name": "Python 3",
   "language": "python",
   "name": "python3"
  },
  "language_info": {
   "codemirror_mode": {
    "name": "ipython",
    "version": 3
   },
   "file_extension": ".py",
   "mimetype": "text/x-python",
   "name": "python",
   "nbconvert_exporter": "python",
   "pygments_lexer": "ipython3",
   "version": "3.7.5"
  }
 },
 "nbformat": 4,
 "nbformat_minor": 2
}
